{
  "nbformat": 4,
  "nbformat_minor": 0,
  "metadata": {
    "colab": {
      "provenance": []
    },
    "kernelspec": {
      "name": "python3",
      "display_name": "Python 3"
    },
    "language_info": {
      "name": "python"
    },
    "gpuClass": "standard",
    "accelerator": "GPU"
  },
  "cells": [
    {
      "cell_type": "markdown",
      "source": [
        "# Implementing ResNets using Keras\n",
        "#### The architecture used is based on the Resnet [paper](https://arxiv.org/abs/1512.03385) and will be used in creating a classification model using the CIFAR-10 dataset"
      ],
      "metadata": {
        "id": "4RhsA41lzPGZ"
      }
    },
    {
      "cell_type": "markdown",
      "source": [
        "#### Downloading data to drive to import it"
      ],
      "metadata": {
        "id": "Qe4YXmWQs_PJ"
      }
    },
    {
      "cell_type": "code",
      "execution_count": 1,
      "metadata": {
        "id": "skRR3pMyr2bc",
        "colab": {
          "base_uri": "https://localhost:8080/"
        },
        "outputId": "af906f51-b0a7-46da-deba-462d9da59432"
      },
      "outputs": [
        {
          "output_type": "stream",
          "name": "stdout",
          "text": [
            "Mounted at /content/drive\n"
          ]
        }
      ],
      "source": [
        "from google.colab import drive\n",
        "drive.mount('/content/drive')"
      ]
    },
    {
      "cell_type": "code",
      "source": [
        "import os\n",
        "os.environ['KAGGLE_CONFIG_DIR'] = \"/content/drive/MyDrive/kaggle\""
      ],
      "metadata": {
        "id": "VXjLFJUxsQqx"
      },
      "execution_count": 2,
      "outputs": []
    },
    {
      "cell_type": "code",
      "source": [
        "%cd \"/content/drive/MyDrive/kaggle/cifar\""
      ],
      "metadata": {
        "colab": {
          "base_uri": "https://localhost:8080/"
        },
        "id": "TuK6-B0NsiFo",
        "outputId": "1e2fbf8a-ac49-412c-9af7-f3ed10b661ca"
      },
      "execution_count": 3,
      "outputs": [
        {
          "output_type": "stream",
          "name": "stdout",
          "text": [
            "/content/drive/MyDrive/kaggle/cifar\n"
          ]
        }
      ]
    },
    {
      "cell_type": "code",
      "source": [
        "# Download the dataset from kaggle\n",
        "!kaggle competitions download -c cifar-10"
      ],
      "metadata": {
        "id": "yEPwYy06smOf"
      },
      "execution_count": null,
      "outputs": []
    },
    {
      "cell_type": "code",
      "source": [
        "%ls"
      ],
      "metadata": {
        "id": "n2aQKkd0stAv",
        "colab": {
          "base_uri": "https://localhost:8080/"
        },
        "outputId": "88f5fae8-6c5e-43dd-aed6-e6c4e682dc4e"
      },
      "execution_count": null,
      "outputs": [
        {
          "output_type": "stream",
          "name": "stdout",
          "text": [
            "checkpoint  model.data-00000-of-00001  test.7z   trainLabels.csv\n",
            "cifar.h5    model.index                \u001b[0m\u001b[01;34mtrain\u001b[0m/    train.zip\n",
            "\u001b[01;34mmodel\u001b[0m/      sampleSubmission.csv       train.7z\n"
          ]
        }
      ]
    },
    {
      "cell_type": "code",
      "source": [
        "import zipfile\n",
        "\n",
        "for file in os.listdir():\n",
        "    if file.endswith(\".zip\"):\n",
        "        with zipfile.ZipFile(file, \"r\") as zip_file:\n",
        "            zip_file.extractall()\n",
        "        os.remove(file)"
      ],
      "metadata": {
        "id": "M-O-0gj_u_gM"
      },
      "execution_count": null,
      "outputs": []
    },
    {
      "cell_type": "code",
      "source": [
        "%ls"
      ],
      "metadata": {
        "colab": {
          "base_uri": "https://localhost:8080/"
        },
        "id": "FoZ2oRKTvoyw",
        "outputId": "a3f5f432-03a8-4ba5-b72c-012a5f8a279f"
      },
      "execution_count": null,
      "outputs": [
        {
          "output_type": "stream",
          "name": "stdout",
          "text": [
            "checkpoint  model.data-00000-of-00001  \u001b[0m\u001b[01;34mtest\u001b[0m/    train.7z\n",
            "cifar.h5    model.index                test.7z  trainLabels.csv\n",
            "\u001b[01;34mmodel\u001b[0m/      sampleSubmission.csv       \u001b[01;34mtrain\u001b[0m/   train.zip\n"
          ]
        }
      ]
    },
    {
      "cell_type": "code",
      "source": [
        "!pip install py7zr"
      ],
      "metadata": {
        "colab": {
          "base_uri": "https://localhost:8080/"
        },
        "id": "kYH9SH0Jv-Cc",
        "outputId": "c1b84ab0-c460-4534-fb52-b51f4891c087"
      },
      "execution_count": null,
      "outputs": [
        {
          "output_type": "stream",
          "name": "stdout",
          "text": [
            "Looking in indexes: https://pypi.org/simple, https://us-python.pkg.dev/colab-wheels/public/simple/\n",
            "Collecting py7zr\n",
            "  Downloading py7zr-0.20.2-py3-none-any.whl (65 kB)\n",
            "\u001b[K     |████████████████████████████████| 65 kB 3.7 MB/s \n",
            "\u001b[?25hRequirement already satisfied: psutil in /usr/local/lib/python3.7/dist-packages (from py7zr) (5.4.8)\n",
            "Collecting pycryptodomex>=3.6.6\n",
            "  Downloading pycryptodomex-3.15.0-cp35-abi3-manylinux2010_x86_64.whl (2.3 MB)\n",
            "\u001b[K     |████████████████████████████████| 2.3 MB 42.0 MB/s \n",
            "\u001b[?25hCollecting multivolumefile>=0.2.3\n",
            "  Downloading multivolumefile-0.2.3-py3-none-any.whl (17 kB)\n",
            "Collecting inflate64>=0.3.1\n",
            "  Downloading inflate64-0.3.1-cp37-cp37m-manylinux_2_17_x86_64.manylinux2014_x86_64.whl (93 kB)\n",
            "\u001b[K     |████████████████████████████████| 93 kB 2.0 MB/s \n",
            "\u001b[?25hCollecting pyppmd<1.1.0,>=0.18.1\n",
            "  Downloading pyppmd-1.0.0-cp37-cp37m-manylinux_2_17_x86_64.manylinux2014_x86_64.whl (138 kB)\n",
            "\u001b[K     |████████████████████████████████| 138 kB 61.8 MB/s \n",
            "\u001b[?25hCollecting pyzstd>=0.14.4\n",
            "  Downloading pyzstd-0.15.3-cp37-cp37m-manylinux_2_17_x86_64.manylinux2014_x86_64.whl (379 kB)\n",
            "\u001b[K     |████████████████████████████████| 379 kB 49.6 MB/s \n",
            "\u001b[?25hCollecting texttable\n",
            "  Downloading texttable-1.6.4-py2.py3-none-any.whl (10 kB)\n",
            "Collecting brotli>=1.0.9\n",
            "  Downloading Brotli-1.0.9-cp37-cp37m-manylinux1_x86_64.whl (357 kB)\n",
            "\u001b[K     |████████████████████████████████| 357 kB 47.2 MB/s \n",
            "\u001b[?25hRequirement already satisfied: importlib-metadata in /usr/local/lib/python3.7/dist-packages (from py7zr) (4.13.0)\n",
            "Collecting pybcj>=0.6.0\n",
            "  Downloading pybcj-1.0.1-cp37-cp37m-manylinux_2_17_x86_64.manylinux2014_x86_64.whl (50 kB)\n",
            "\u001b[K     |████████████████████████████████| 50 kB 5.8 MB/s \n",
            "\u001b[?25hRequirement already satisfied: typing-extensions>=3.6.4 in /usr/local/lib/python3.7/dist-packages (from importlib-metadata->py7zr) (4.1.1)\n",
            "Requirement already satisfied: zipp>=0.5 in /usr/local/lib/python3.7/dist-packages (from importlib-metadata->py7zr) (3.10.0)\n",
            "Installing collected packages: texttable, pyzstd, pyppmd, pycryptodomex, pybcj, multivolumefile, inflate64, brotli, py7zr\n",
            "Successfully installed brotli-1.0.9 inflate64-0.3.1 multivolumefile-0.2.3 py7zr-0.20.2 pybcj-1.0.1 pycryptodomex-3.15.0 pyppmd-1.0.0 pyzstd-0.15.3 texttable-1.6.4\n"
          ]
        }
      ]
    },
    {
      "cell_type": "code",
      "source": [
        "import py7zr\n",
        "train_file_path = '/content/drive/MyDrive/kaggle/cifar/train.7z'\n",
        "archive = py7zr.SevenZipFile(train_file_path, mode='r')\n",
        "archive.extractall(path='/content/drive/MyDrive/kaggle/cifar/train')\n",
        "archive.close()"
      ],
      "metadata": {
        "id": "biEAc7Ijwqyi"
      },
      "execution_count": null,
      "outputs": []
    },
    {
      "cell_type": "code",
      "source": [
        "import py7zr\n",
        "test_file_path = '/content/drive/MyDrive/kaggle/cifar/test.7z'\n",
        "archive = py7zr.SevenZipFile(test_file_path, mode='r')\n",
        "archive.extractall(path='/content/drive/MyDrive/kaggle/cifar/test')\n",
        "archive.close()"
      ],
      "metadata": {
        "id": "0Ss3ce3wxAzf"
      },
      "execution_count": null,
      "outputs": []
    },
    {
      "cell_type": "markdown",
      "source": [
        "## Data Loading"
      ],
      "metadata": {
        "id": "R2G_zppZv7cK"
      }
    },
    {
      "cell_type": "code",
      "source": [
        "import tensorflow as tf\n",
        "import numpy as np\n",
        "import pandas as pd\n",
        "import seaborn as sns\n",
        "import cv2\n",
        "import glob\n",
        "import matplotlib.pyplot as plt\n",
        "import warnings\n",
        "warnings.filterwarnings('ignore')\n",
        "%load_ext autoreload\n",
        "%autoreload 2\n",
        "%autosave 60\n",
        "%matplotlib inline"
      ],
      "metadata": {
        "colab": {
          "base_uri": "https://localhost:8080/",
          "height": 35
        },
        "id": "hi-m1X1IvxA7",
        "outputId": "09055719-30b3-480f-b10e-b3b80cd7dc1f"
      },
      "execution_count": 4,
      "outputs": [
        {
          "output_type": "display_data",
          "data": {
            "application/javascript": [
              "IPython.notebook.set_autosave_interval(60000)"
            ]
          },
          "metadata": {}
        },
        {
          "output_type": "stream",
          "name": "stdout",
          "text": [
            "Autosaving every 60 seconds\n"
          ]
        }
      ]
    },
    {
      "cell_type": "markdown",
      "source": [
        "#### Images are numbered from 1 to 50000 with their ids and labels in a seperate csv"
      ],
      "metadata": {
        "id": "IW47qNpqKJjf"
      }
    },
    {
      "cell_type": "code",
      "source": [
        "img_labels = pd.read_csv('trainLabels.csv')\n",
        "img_labels.head()"
      ],
      "metadata": {
        "id": "lyKvySj8xTuo",
        "colab": {
          "base_uri": "https://localhost:8080/",
          "height": 206
        },
        "outputId": "babc06fd-49d8-4bbd-eb14-f208fbebe6fa"
      },
      "execution_count": 5,
      "outputs": [
        {
          "output_type": "execute_result",
          "data": {
            "text/plain": [
              "   id       label\n",
              "0   1        frog\n",
              "1   2       truck\n",
              "2   3       truck\n",
              "3   4        deer\n",
              "4   5  automobile"
            ],
            "text/html": [
              "\n",
              "  <div id=\"df-6b1b0547-4840-4211-bbee-efa7555beea1\">\n",
              "    <div class=\"colab-df-container\">\n",
              "      <div>\n",
              "<style scoped>\n",
              "    .dataframe tbody tr th:only-of-type {\n",
              "        vertical-align: middle;\n",
              "    }\n",
              "\n",
              "    .dataframe tbody tr th {\n",
              "        vertical-align: top;\n",
              "    }\n",
              "\n",
              "    .dataframe thead th {\n",
              "        text-align: right;\n",
              "    }\n",
              "</style>\n",
              "<table border=\"1\" class=\"dataframe\">\n",
              "  <thead>\n",
              "    <tr style=\"text-align: right;\">\n",
              "      <th></th>\n",
              "      <th>id</th>\n",
              "      <th>label</th>\n",
              "    </tr>\n",
              "  </thead>\n",
              "  <tbody>\n",
              "    <tr>\n",
              "      <th>0</th>\n",
              "      <td>1</td>\n",
              "      <td>frog</td>\n",
              "    </tr>\n",
              "    <tr>\n",
              "      <th>1</th>\n",
              "      <td>2</td>\n",
              "      <td>truck</td>\n",
              "    </tr>\n",
              "    <tr>\n",
              "      <th>2</th>\n",
              "      <td>3</td>\n",
              "      <td>truck</td>\n",
              "    </tr>\n",
              "    <tr>\n",
              "      <th>3</th>\n",
              "      <td>4</td>\n",
              "      <td>deer</td>\n",
              "    </tr>\n",
              "    <tr>\n",
              "      <th>4</th>\n",
              "      <td>5</td>\n",
              "      <td>automobile</td>\n",
              "    </tr>\n",
              "  </tbody>\n",
              "</table>\n",
              "</div>\n",
              "      <button class=\"colab-df-convert\" onclick=\"convertToInteractive('df-6b1b0547-4840-4211-bbee-efa7555beea1')\"\n",
              "              title=\"Convert this dataframe to an interactive table.\"\n",
              "              style=\"display:none;\">\n",
              "        \n",
              "  <svg xmlns=\"http://www.w3.org/2000/svg\" height=\"24px\"viewBox=\"0 0 24 24\"\n",
              "       width=\"24px\">\n",
              "    <path d=\"M0 0h24v24H0V0z\" fill=\"none\"/>\n",
              "    <path d=\"M18.56 5.44l.94 2.06.94-2.06 2.06-.94-2.06-.94-.94-2.06-.94 2.06-2.06.94zm-11 1L8.5 8.5l.94-2.06 2.06-.94-2.06-.94L8.5 2.5l-.94 2.06-2.06.94zm10 10l.94 2.06.94-2.06 2.06-.94-2.06-.94-.94-2.06-.94 2.06-2.06.94z\"/><path d=\"M17.41 7.96l-1.37-1.37c-.4-.4-.92-.59-1.43-.59-.52 0-1.04.2-1.43.59L10.3 9.45l-7.72 7.72c-.78.78-.78 2.05 0 2.83L4 21.41c.39.39.9.59 1.41.59.51 0 1.02-.2 1.41-.59l7.78-7.78 2.81-2.81c.8-.78.8-2.07 0-2.86zM5.41 20L4 18.59l7.72-7.72 1.47 1.35L5.41 20z\"/>\n",
              "  </svg>\n",
              "      </button>\n",
              "      \n",
              "  <style>\n",
              "    .colab-df-container {\n",
              "      display:flex;\n",
              "      flex-wrap:wrap;\n",
              "      gap: 12px;\n",
              "    }\n",
              "\n",
              "    .colab-df-convert {\n",
              "      background-color: #E8F0FE;\n",
              "      border: none;\n",
              "      border-radius: 50%;\n",
              "      cursor: pointer;\n",
              "      display: none;\n",
              "      fill: #1967D2;\n",
              "      height: 32px;\n",
              "      padding: 0 0 0 0;\n",
              "      width: 32px;\n",
              "    }\n",
              "\n",
              "    .colab-df-convert:hover {\n",
              "      background-color: #E2EBFA;\n",
              "      box-shadow: 0px 1px 2px rgba(60, 64, 67, 0.3), 0px 1px 3px 1px rgba(60, 64, 67, 0.15);\n",
              "      fill: #174EA6;\n",
              "    }\n",
              "\n",
              "    [theme=dark] .colab-df-convert {\n",
              "      background-color: #3B4455;\n",
              "      fill: #D2E3FC;\n",
              "    }\n",
              "\n",
              "    [theme=dark] .colab-df-convert:hover {\n",
              "      background-color: #434B5C;\n",
              "      box-shadow: 0px 1px 3px 1px rgba(0, 0, 0, 0.15);\n",
              "      filter: drop-shadow(0px 1px 2px rgba(0, 0, 0, 0.3));\n",
              "      fill: #FFFFFF;\n",
              "    }\n",
              "  </style>\n",
              "\n",
              "      <script>\n",
              "        const buttonEl =\n",
              "          document.querySelector('#df-6b1b0547-4840-4211-bbee-efa7555beea1 button.colab-df-convert');\n",
              "        buttonEl.style.display =\n",
              "          google.colab.kernel.accessAllowed ? 'block' : 'none';\n",
              "\n",
              "        async function convertToInteractive(key) {\n",
              "          const element = document.querySelector('#df-6b1b0547-4840-4211-bbee-efa7555beea1');\n",
              "          const dataTable =\n",
              "            await google.colab.kernel.invokeFunction('convertToInteractive',\n",
              "                                                     [key], {});\n",
              "          if (!dataTable) return;\n",
              "\n",
              "          const docLinkHtml = 'Like what you see? Visit the ' +\n",
              "            '<a target=\"_blank\" href=https://colab.research.google.com/notebooks/data_table.ipynb>data table notebook</a>'\n",
              "            + ' to learn more about interactive tables.';\n",
              "          element.innerHTML = '';\n",
              "          dataTable['output_type'] = 'display_data';\n",
              "          await google.colab.output.renderOutput(dataTable, element);\n",
              "          const docLink = document.createElement('div');\n",
              "          docLink.innerHTML = docLinkHtml;\n",
              "          element.appendChild(docLink);\n",
              "        }\n",
              "      </script>\n",
              "    </div>\n",
              "  </div>\n",
              "  "
            ]
          },
          "metadata": {},
          "execution_count": 5
        }
      ]
    },
    {
      "cell_type": "markdown",
      "source": [
        "#### Using the labels create seperate folders on drive for each label and include its data inside"
      ],
      "metadata": {
        "id": "WGOnBWyMKo_H"
      }
    },
    {
      "cell_type": "code",
      "source": [
        "labels = img_labels['label'].unique()\n",
        "for l in labels:\n",
        "    if not os.path.exists('/content/drive/MyDrive/kaggle/cifar/train/'+l):\n",
        "        os.mkdir('/content/drive/MyDrive/kaggle/cifar/train/'+l)"
      ],
      "metadata": {
        "id": "-ejcfeYo4EeU"
      },
      "execution_count": 7,
      "outputs": []
    },
    {
      "cell_type": "code",
      "source": [
        "train_path = 'train'\n",
        "for img in train_images:\n",
        "    l = img_labels.iloc[int(img[6:-4])-1]['label']\n",
        "    os.rename(img,os.path.join(train_path,l,img[6:]))"
      ],
      "metadata": {
        "id": "JlPxPB_za9Fx"
      },
      "execution_count": null,
      "outputs": []
    },
    {
      "cell_type": "code",
      "source": [
        "train_images = glob.glob('train/*')\n",
        "train_images"
      ],
      "metadata": {
        "id": "r6DwoNL5bOBX",
        "colab": {
          "base_uri": "https://localhost:8080/"
        },
        "outputId": "a02b0b9c-89fe-4391-b47e-06fea4dfbe65"
      },
      "execution_count": 8,
      "outputs": [
        {
          "output_type": "execute_result",
          "data": {
            "text/plain": [
              "['train/frog',\n",
              " 'train/truck',\n",
              " 'train/deer',\n",
              " 'train/automobile',\n",
              " 'train/bird',\n",
              " 'train/horse',\n",
              " 'train/ship',\n",
              " 'train/cat',\n",
              " 'train/dog',\n",
              " 'train/airplane']"
            ]
          },
          "metadata": {},
          "execution_count": 8
        }
      ]
    },
    {
      "cell_type": "code",
      "source": [
        "batch_size = 128\n",
        "img_height = 32\n",
        "img_width = 32"
      ],
      "metadata": {
        "id": "B9q5oN-kcRwR"
      },
      "execution_count": 9,
      "outputs": []
    },
    {
      "cell_type": "markdown",
      "source": [
        "#### Split the data to 80% train and 20% validation"
      ],
      "metadata": {
        "id": "enNsCKqRLAkR"
      }
    },
    {
      "cell_type": "code",
      "source": [
        "data_dir = 'train'\n",
        "train_ds = tf.keras.utils.image_dataset_from_directory(\n",
        "  data_dir,\n",
        "  validation_split=0.2,\n",
        "  subset=\"training\",\n",
        "  seed=42,\n",
        "  image_size=(img_height, img_width),\n",
        "  batch_size=batch_size)"
      ],
      "metadata": {
        "id": "9a51jbXEcqqI",
        "colab": {
          "base_uri": "https://localhost:8080/"
        },
        "outputId": "b49beef8-0578-4735-87b5-660280271936"
      },
      "execution_count": 10,
      "outputs": [
        {
          "output_type": "stream",
          "name": "stdout",
          "text": [
            "Found 50000 files belonging to 10 classes.\n",
            "Using 40000 files for training.\n"
          ]
        }
      ]
    },
    {
      "cell_type": "code",
      "source": [
        "val_ds = tf.keras.utils.image_dataset_from_directory(\n",
        "  data_dir,\n",
        "  validation_split=0.2,\n",
        "  subset=\"validation\",\n",
        "  seed=42,\n",
        "  image_size=(img_height, img_width),\n",
        "  batch_size=batch_size)"
      ],
      "metadata": {
        "id": "O3smepkjc47_",
        "colab": {
          "base_uri": "https://localhost:8080/"
        },
        "outputId": "ca977fa9-a135-4886-c4e4-81a92725f690"
      },
      "execution_count": 11,
      "outputs": [
        {
          "output_type": "stream",
          "name": "stdout",
          "text": [
            "Found 50000 files belonging to 10 classes.\n",
            "Using 10000 files for validation.\n"
          ]
        }
      ]
    },
    {
      "cell_type": "code",
      "source": [
        "# getting class names for plot\n",
        "class_names = train_ds.class_names\n",
        "print(class_names)"
      ],
      "metadata": {
        "id": "PwJcKJTZc73Z",
        "colab": {
          "base_uri": "https://localhost:8080/"
        },
        "outputId": "e485a1e7-4232-4056-ce4d-5f3860586233"
      },
      "execution_count": 12,
      "outputs": [
        {
          "output_type": "stream",
          "name": "stdout",
          "text": [
            "['airplane', 'automobile', 'bird', 'cat', 'deer', 'dog', 'frog', 'horse', 'ship', 'truck']\n"
          ]
        }
      ]
    },
    {
      "cell_type": "code",
      "source": [
        "# plotting some images to view the data\n",
        "plt.figure(figsize=(10, 10))\n",
        "for images, labels in train_ds.take(1):\n",
        "  for i in range(9):\n",
        "    ax = plt.subplot(3, 3, i + 1)\n",
        "    plt.imshow(images[i].numpy().astype(\"uint8\"))\n",
        "    plt.title(class_names[labels[i]])\n",
        "    plt.axis(\"off\")"
      ],
      "metadata": {
        "id": "sjE736Qgc_Ih",
        "colab": {
          "base_uri": "https://localhost:8080/",
          "height": 591
        },
        "outputId": "8ded43b3-3479-43e3-ff7c-44571755173f"
      },
      "execution_count": 13,
      "outputs": [
        {
          "output_type": "display_data",
          "data": {
            "text/plain": [
              "<Figure size 720x720 with 9 Axes>"
            ],
            "image/png": "[encoded data removed]"
          },
          "metadata": {
            "needs_background": "light"
          }
        }
      ]
    },
    {
      "cell_type": "code",
      "source": [
        "for image_batch, labels_batch in train_ds:\n",
        "  print(image_batch.shape)\n",
        "  print(labels_batch.shape)\n",
        "  break"
      ],
      "metadata": {
        "id": "XZCzaE2WdFmJ",
        "colab": {
          "base_uri": "https://localhost:8080/"
        },
        "outputId": "e891ad5c-27d3-4f57-a7e1-4302dee59756"
      },
      "execution_count": 14,
      "outputs": [
        {
          "output_type": "stream",
          "name": "stdout",
          "text": [
            "(128, 32, 32, 3)\n",
            "(128,)\n"
          ]
        }
      ]
    },
    {
      "cell_type": "markdown",
      "source": [
        "#### Using data augementation to double the training set size"
      ],
      "metadata": {
        "id": "c5Ael-vQLeI4"
      }
    },
    {
      "cell_type": "code",
      "source": [
        "data_augmentation = tf.keras.Sequential([\n",
        "  tf.keras.layers.RandomFlip(\"horizontal_and_vertical\"),\n",
        "  tf.keras.layers.RandomRotation(0.2),\n",
        "  tf.keras.layers.RandomZoom(\n",
        "    height_factor=0.1,\n",
        "    width_factor=0.1,\n",
        "    fill_mode='reflect',\n",
        "    interpolation='bilinear',\n",
        "    seed=42,\n",
        "    fill_value=0.0,\n",
        "),\n",
        " tf.keras.layers.Resizing(32, 32)\n",
        "])\n"
      ],
      "metadata": {
        "id": "kBcm0WobdXT8"
      },
      "execution_count": 15,
      "outputs": []
    },
    {
      "cell_type": "code",
      "source": [
        "#Without normalization\n",
        "plt.figure(figsize=(10, 10))\n",
        "for images, labels in train_ds.take(1):\n",
        "    for i in range(9):\n",
        "        augmented_image = data_augmentation(images[i])\n",
        "        ax = plt.subplot(3, 3, i + 1)\n",
        "        plt.imshow(augmented_image.numpy().astype(\"uint8\"))\n",
        "        plt.title(class_names[labels[i]])\n",
        "        plt.axis(\"off\")"
      ],
      "metadata": {
        "id": "VHEtZxeCevm0",
        "colab": {
          "base_uri": "https://localhost:8080/",
          "height": 591
        },
        "outputId": "f9d292ea-e756-4e26-b0a2-84242057b31c"
      },
      "execution_count": 16,
      "outputs": [
        {
          "output_type": "display_data",
          "data": {
            "text/plain": [
              "<Figure size 720x720 with 9 Axes>"
            ],
            "image/png": "[encoded data removed]"
          },
          "metadata": {
            "needs_background": "light"
          }
        }
      ]
    },
    {
      "cell_type": "code",
      "source": [
        "AUTOTUNE = tf.data.AUTOTUNE\n",
        "ds = train_ds.map(lambda x, y: (data_augmentation(x, training=True), y), \n",
        "            num_parallel_calls=AUTOTUNE)\n",
        "len(ds)"
      ],
      "metadata": {
        "id": "9BIufkpJkIlQ"
      },
      "execution_count": null,
      "outputs": []
    },
    {
      "cell_type": "code",
      "source": [
        "train_ds = train_ds.concatenate(ds)\n",
        "len(train_ds)"
      ],
      "metadata": {
        "id": "xY1a-dshl8zL",
        "colab": {
          "base_uri": "https://localhost:8080/"
        },
        "outputId": "7e7fa9af-09f2-4dd4-aba6-46c6c1c9a2d6"
      },
      "execution_count": 18,
      "outputs": [
        {
          "output_type": "execute_result",
          "data": {
            "text/plain": [
              "626"
            ]
          },
          "metadata": {},
          "execution_count": 18
        }
      ]
    },
    {
      "cell_type": "markdown",
      "source": [
        "### Creating the Model"
      ],
      "metadata": {
        "id": "XITA02ebmHQ8"
      }
    },
    {
      "cell_type": "code",
      "source": [
        "import tensorflow.keras\n",
        "from tensorflow.keras.layers import Dense, Conv2D\n",
        "from tensorflow.keras.layers import BatchNormalization, Activation\n",
        "from tensorflow.keras.layers import AveragePooling2D, Input, Flatten\n",
        "from tensorflow.keras.optimizers import Adam\n",
        "from tensorflow.keras.callbacks import ModelCheckpoint\n",
        "from tensorflow.keras.callbacks import LearningRateScheduler\n",
        "from tensorflow.keras.callbacks import ReduceLROnPlateau\n",
        "from tensorflow.keras.preprocessing.image import ImageDataGenerator\n",
        "from tensorflow.keras.regularizers import l2\n",
        "from tensorflow.keras import backend as K\n",
        "from tensorflow.keras.models import Model"
      ],
      "metadata": {
        "id": "UDqBbZf3mWmM"
      },
      "execution_count": 19,
      "outputs": []
    },
    {
      "cell_type": "code",
      "source": [
        "# Training parameters \n",
        "# Representative and not actually used , epochs are distribute on several runs due to limited resources and keras inefficiency\n",
        "BATCH_SIZE = 128\n",
        "EPOCHS = 200\n",
        "NUM_CLASSES = 10"
      ],
      "metadata": {
        "id": "YeFoHAlkmXeb"
      },
      "execution_count": 20,
      "outputs": []
    },
    {
      "cell_type": "markdown",
      "source": [
        "#### The residual block used by the model\n"
      ],
      "metadata": {
        "id": "bbYrm-r1V-No"
      }
    },
    {
      "cell_type": "code",
      "source": [
        "def resnet_layer(inputs,\n",
        "                 num_filters=16,\n",
        "                 kernel_size=3,\n",
        "                 strides=1,\n",
        "                 activation='relu',\n",
        "                 batch_normalization=True,\n",
        "                 conv_first=True):\n",
        "    # conv1x1 or conv3x3 depending on call\n",
        "    conv = Conv2D(num_filters,\n",
        "                kernel_size=kernel_size,\n",
        "                strides=strides,\n",
        "                padding='same',\n",
        "                kernel_initializer='he_normal',\n",
        "                kernel_regularizer=l2(1e-4))\n",
        "    \n",
        "    # check where conve is actually added\n",
        "    x = inputs\n",
        "    if conv_first:\n",
        "        x = conv(x)\n",
        "        if batch_normalization:\n",
        "            x = BatchNormalization()(x)\n",
        "        if activation is not None:\n",
        "            x = Activation(activation)(x)\n",
        "    else:\n",
        "        if batch_normalization:\n",
        "            x = BatchNormalization()(x)\n",
        "        if activation is not None:\n",
        "            x = Activation(activation)(x)\n",
        "        x = conv(x)\n",
        "    return x"
      ],
      "metadata": {
        "id": "zKTo0I32nEhJ"
      },
      "execution_count": 21,
      "outputs": []
    },
    {
      "cell_type": "markdown",
      "source": [
        "#### model uses batch norm SWISH activation for all but first layer"
      ],
      "metadata": {
        "id": "rLyfpQJqM30I"
      }
    },
    {
      "cell_type": "code",
      "source": [
        "def resnet(input_shape, depth, dropout, num_classes=10):\n",
        "    # make sure the given depth is valid\n",
        "    if (depth - 2) % 9 != 0:\n",
        "        raise ValueError('depth should be 9n+2 (eg 56 or 110 in [b])')\n",
        "   \n",
        "    # Calculate number of Residual Blocks\n",
        "    num_filters_in = 16\n",
        "    num_res_blocks = int((depth - 2) / 9)\n",
        "\n",
        "    inputs = Input(shape=input_shape)\n",
        "    # first layer\n",
        "    x = resnet_layer(inputs=inputs,\n",
        "                    num_filters=num_filters_in,\n",
        "                    conv_first=True)\n",
        "    \n",
        "    # Creating the stack of residual units\n",
        "    for stage in range(3):\n",
        "        for res_block in range(num_res_blocks):\n",
        "            activation = 'swish'\n",
        "            batch_normalization = True\n",
        "            strides = 1\n",
        "            if stage == 0:\n",
        "                num_filters_out = num_filters_in * 4\n",
        "                if res_block == 0:  # first layer and first stage\n",
        "                    activation = None\n",
        "                    batch_normalization = False\n",
        "            else:\n",
        "                num_filters_out = num_filters_in * 2\n",
        "                if res_block == 0:  # first layer but not first stage\n",
        "                    strides = 2 \n",
        "    \n",
        "            # Adding the 3 conv layers with dropouts in between\n",
        "            y = resnet_layer(inputs=x,\n",
        "                             num_filters=num_filters_in,\n",
        "                             kernel_size=1,\n",
        "                             strides=strides,\n",
        "                             activation=activation,\n",
        "                             batch_normalization=batch_normalization,\n",
        "                             conv_first=False)\n",
        "            y = tf.keras.layers.Dropout(dropout)(y)\n",
        "            y = resnet_layer(inputs=y,\n",
        "                             num_filters=num_filters_in,\n",
        "                             conv_first=False)\n",
        "            y = tf.keras.layers.Dropout(dropout)(y)\n",
        "            y = resnet_layer(inputs=y,\n",
        "                             num_filters=num_filters_out,\n",
        "                             kernel_size=1,\n",
        "                             conv_first=False)\n",
        "            \n",
        "            if res_block == 0:\n",
        "                # use conv1x1 to match the dimensions\n",
        "                x = resnet_layer(inputs=x,\n",
        "                                 num_filters=num_filters_out,\n",
        "                                 kernel_size=1,\n",
        "                                 strides=strides,\n",
        "                                 activation=None,\n",
        "                                 batch_normalization=False)\n",
        "            x = tensorflow.keras.layers.add([x, y])\n",
        "\n",
        "        num_filters_in = num_filters_out\n",
        "\n",
        "    x = BatchNormalization()(x)\n",
        "    x = Activation('swish')(x)\n",
        "    x = AveragePooling2D(pool_size=8)(x)\n",
        "    y = Flatten()(x)\n",
        "    outputs = Dense(num_classes,\n",
        "                    activation='softmax',\n",
        "                    kernel_initializer='he_normal')(y)\n",
        "\n",
        "    # Create and return model\n",
        "    model = Model(inputs=inputs, outputs=outputs)\n",
        "    return model"
      ],
      "metadata": {
        "id": "X_jvLycrn2PM"
      },
      "execution_count": 22,
      "outputs": []
    },
    {
      "cell_type": "markdown",
      "source": [
        "#### Creating learning rate schedular"
      ],
      "metadata": {
        "id": "c7wwDhvCO-k8"
      }
    },
    {
      "cell_type": "code",
      "source": [
        "# Scheduler used inside the model to change the learning rate\n",
        "def sched(epoch, lr):\n",
        "    lr = 1e-3\n",
        "    if epoch > 50:\n",
        "        lr *= 0.5e-3\n",
        "    elif epoch > 40:\n",
        "        lr *= 1e-3\n",
        "    elif epoch > 30:\n",
        "        lr *= 1e-2\n",
        "    elif epoch > 20:\n",
        "        lr *= 1e-1\n",
        "    print('Learning rate: ', lr)\n",
        "    return lr"
      ],
      "metadata": {
        "id": "k_kvW1XgO91A"
      },
      "execution_count": 23,
      "outputs": []
    },
    {
      "cell_type": "markdown",
      "source": [
        "### Model Creation and compilation"
      ],
      "metadata": {
        "id": "zJ4zTLe2YnPw"
      }
    },
    {
      "cell_type": "code",
      "source": [
        "input_shape = (32,32,3)\n",
        "model = resnet(input_shape,56,0.5)\n",
        "\n",
        "model.compile(loss=tf.keras.losses.SparseCategoricalCrossentropy(from_logits=True),\n",
        "              optimizer=Adam(lr=sched(0, 0)),\n",
        "              metrics=['accuracy'])\n",
        "model.summary()"
      ],
      "metadata": {
        "id": "Z5neUvOVn2ho",
        "colab": {
          "base_uri": "https://localhost:8080/"
        },
        "outputId": "f38463e8-24db-4f58-ab98-d5908d44df3b"
      },
      "execution_count": 24,
      "outputs": [
        {
          "output_type": "stream",
          "name": "stderr",
          "text": [
            "WARNING:absl:`lr` is deprecated, please use `learning_rate` instead, or use the legacy optimizer, e.g.,tf.keras.optimizers.legacy.Adam.\n"
          ]
        },
        {
          "output_type": "stream",
          "name": "stdout",
          "text": [
            "Learning rate:  0.001\n",
            "Model: \"model\"\n",
            "__________________________________________________________________________________________________\n",
            " Layer (type)                   Output Shape         Param #     Connected to                     \n",
            "==================================================================================================\n",
            " input_1 (InputLayer)           [(None, 32, 32, 3)]  0           []                               \n",
            "                                                                                                  \n",
            " conv2d (Conv2D)                (None, 32, 32, 16)   448         ['input_1[0][0]']                \n",
            "                                                                                                  \n",
            " batch_normalization (BatchNorm  (None, 32, 32, 16)  64          ['conv2d[0][0]']                 \n",
            " alization)                                                                                       \n",
            "                                                                                                  \n",
            " activation (Activation)        (None, 32, 32, 16)   0           ['batch_normalization[0][0]']    \n",
            "                                                                                                  \n",
            " conv2d_1 (Conv2D)              (None, 32, 32, 16)   272         ['activation[0][0]']             \n",
            "                                                                                                  \n",
            " dropout (Dropout)              (None, 32, 32, 16)   0           ['conv2d_1[0][0]']               \n",
            "                                                                                                  \n",
            " batch_normalization_1 (BatchNo  (None, 32, 32, 16)  64          ['dropout[0][0]']                \n",
            " rmalization)                                                                                     \n",
            "                                                                                                  \n",
            " activation_1 (Activation)      (None, 32, 32, 16)   0           ['batch_normalization_1[0][0]']  \n",
            "                                                                                                  \n",
            " conv2d_2 (Conv2D)              (None, 32, 32, 16)   2320        ['activation_1[0][0]']           \n",
            "                                                                                                  \n",
            " dropout_1 (Dropout)            (None, 32, 32, 16)   0           ['conv2d_2[0][0]']               \n",
            "                                                                                                  \n",
            " batch_normalization_2 (BatchNo  (None, 32, 32, 16)  64          ['dropout_1[0][0]']              \n",
            " rmalization)                                                                                     \n",
            "                                                                                                  \n",
            " activation_2 (Activation)      (None, 32, 32, 16)   0           ['batch_normalization_2[0][0]']  \n",
            "                                                                                                  \n",
            " conv2d_4 (Conv2D)              (None, 32, 32, 64)   1088        ['activation[0][0]']             \n",
            "                                                                                                  \n",
            " conv2d_3 (Conv2D)              (None, 32, 32, 64)   1088        ['activation_2[0][0]']           \n",
            "                                                                                                  \n",
            " add (Add)                      (None, 32, 32, 64)   0           ['conv2d_4[0][0]',               \n",
            "                                                                  'conv2d_3[0][0]']               \n",
            "                                                                                                  \n",
            " batch_normalization_3 (BatchNo  (None, 32, 32, 64)  256         ['add[0][0]']                    \n",
            " rmalization)                                                                                     \n",
            "                                                                                                  \n",
            " activation_3 (Activation)      (None, 32, 32, 64)   0           ['batch_normalization_3[0][0]']  \n",
            "                                                                                                  \n",
            " conv2d_5 (Conv2D)              (None, 32, 32, 16)   1040        ['activation_3[0][0]']           \n",
            "                                                                                                  \n",
            " dropout_2 (Dropout)            (None, 32, 32, 16)   0           ['conv2d_5[0][0]']               \n",
            "                                                                                                  \n",
            " batch_normalization_4 (BatchNo  (None, 32, 32, 16)  64          ['dropout_2[0][0]']              \n",
            " rmalization)                                                                                     \n",
            "                                                                                                  \n",
            " activation_4 (Activation)      (None, 32, 32, 16)   0           ['batch_normalization_4[0][0]']  \n",
            "                                                                                                  \n",
            " conv2d_6 (Conv2D)              (None, 32, 32, 16)   2320        ['activation_4[0][0]']           \n",
            "                                                                                                  \n",
            " dropout_3 (Dropout)            (None, 32, 32, 16)   0           ['conv2d_6[0][0]']               \n",
            "                                                                                                  \n",
            " batch_normalization_5 (BatchNo  (None, 32, 32, 16)  64          ['dropout_3[0][0]']              \n",
            " rmalization)                                                                                     \n",
            "                                                                                                  \n",
            " activation_5 (Activation)      (None, 32, 32, 16)   0           ['batch_normalization_5[0][0]']  \n",
            "                                                                                                  \n",
            " conv2d_7 (Conv2D)              (None, 32, 32, 64)   1088        ['activation_5[0][0]']           \n",
            "                                                                                                  \n",
            " add_1 (Add)                    (None, 32, 32, 64)   0           ['add[0][0]',                    \n",
            "                                                                  'conv2d_7[0][0]']               \n",
            "                                                                                                  \n",
            " batch_normalization_6 (BatchNo  (None, 32, 32, 64)  256         ['add_1[0][0]']                  \n",
            " rmalization)                                                                                     \n",
            "                                                                                                  \n",
            " activation_6 (Activation)      (None, 32, 32, 64)   0           ['batch_normalization_6[0][0]']  \n",
            "                                                                                                  \n",
            " conv2d_8 (Conv2D)              (None, 32, 32, 16)   1040        ['activation_6[0][0]']           \n",
            "                                                                                                  \n",
            " dropout_4 (Dropout)            (None, 32, 32, 16)   0           ['conv2d_8[0][0]']               \n",
            "                                                                                                  \n",
            " batch_normalization_7 (BatchNo  (None, 32, 32, 16)  64          ['dropout_4[0][0]']              \n",
            " rmalization)                                                                                     \n",
            "                                                                                                  \n",
            " activation_7 (Activation)      (None, 32, 32, 16)   0           ['batch_normalization_7[0][0]']  \n",
            "                                                                                                  \n",
            " conv2d_9 (Conv2D)              (None, 32, 32, 16)   2320        ['activation_7[0][0]']           \n",
            "                                                                                                  \n",
            " dropout_5 (Dropout)            (None, 32, 32, 16)   0           ['conv2d_9[0][0]']               \n",
            "                                                                                                  \n",
            " batch_normalization_8 (BatchNo  (None, 32, 32, 16)  64          ['dropout_5[0][0]']              \n",
            " rmalization)                                                                                     \n",
            "                                                                                                  \n",
            " activation_8 (Activation)      (None, 32, 32, 16)   0           ['batch_normalization_8[0][0]']  \n",
            "                                                                                                  \n",
            " conv2d_10 (Conv2D)             (None, 32, 32, 64)   1088        ['activation_8[0][0]']           \n",
            "                                                                                                  \n",
            " add_2 (Add)                    (None, 32, 32, 64)   0           ['add_1[0][0]',                  \n",
            "                                                                  'conv2d_10[0][0]']              \n",
            "                                                                                                  \n",
            " batch_normalization_9 (BatchNo  (None, 32, 32, 64)  256         ['add_2[0][0]']                  \n",
            " rmalization)                                                                                     \n",
            "                                                                                                  \n",
            " activation_9 (Activation)      (None, 32, 32, 64)   0           ['batch_normalization_9[0][0]']  \n",
            "                                                                                                  \n",
            " conv2d_11 (Conv2D)             (None, 32, 32, 16)   1040        ['activation_9[0][0]']           \n",
            "                                                                                                  \n",
            " dropout_6 (Dropout)            (None, 32, 32, 16)   0           ['conv2d_11[0][0]']              \n",
            "                                                                                                  \n",
            " batch_normalization_10 (BatchN  (None, 32, 32, 16)  64          ['dropout_6[0][0]']              \n",
            " ormalization)                                                                                    \n",
            "                                                                                                  \n",
            " activation_10 (Activation)     (None, 32, 32, 16)   0           ['batch_normalization_10[0][0]'] \n",
            "                                                                                                  \n",
            " conv2d_12 (Conv2D)             (None, 32, 32, 16)   2320        ['activation_10[0][0]']          \n",
            "                                                                                                  \n",
            " dropout_7 (Dropout)            (None, 32, 32, 16)   0           ['conv2d_12[0][0]']              \n",
            "                                                                                                  \n",
            " batch_normalization_11 (BatchN  (None, 32, 32, 16)  64          ['dropout_7[0][0]']              \n",
            " ormalization)                                                                                    \n",
            "                                                                                                  \n",
            " activation_11 (Activation)     (None, 32, 32, 16)   0           ['batch_normalization_11[0][0]'] \n",
            "                                                                                                  \n",
            " conv2d_13 (Conv2D)             (None, 32, 32, 64)   1088        ['activation_11[0][0]']          \n",
            "                                                                                                  \n",
            " add_3 (Add)                    (None, 32, 32, 64)   0           ['add_2[0][0]',                  \n",
            "                                                                  'conv2d_13[0][0]']              \n",
            "                                                                                                  \n",
            " batch_normalization_12 (BatchN  (None, 32, 32, 64)  256         ['add_3[0][0]']                  \n",
            " ormalization)                                                                                    \n",
            "                                                                                                  \n",
            " activation_12 (Activation)     (None, 32, 32, 64)   0           ['batch_normalization_12[0][0]'] \n",
            "                                                                                                  \n",
            " conv2d_14 (Conv2D)             (None, 32, 32, 16)   1040        ['activation_12[0][0]']          \n",
            "                                                                                                  \n",
            " dropout_8 (Dropout)            (None, 32, 32, 16)   0           ['conv2d_14[0][0]']              \n",
            "                                                                                                  \n",
            " batch_normalization_13 (BatchN  (None, 32, 32, 16)  64          ['dropout_8[0][0]']              \n",
            " ormalization)                                                                                    \n",
            "                                                                                                  \n",
            " activation_13 (Activation)     (None, 32, 32, 16)   0           ['batch_normalization_13[0][0]'] \n",
            "                                                                                                  \n",
            " conv2d_15 (Conv2D)             (None, 32, 32, 16)   2320        ['activation_13[0][0]']          \n",
            "                                                                                                  \n",
            " dropout_9 (Dropout)            (None, 32, 32, 16)   0           ['conv2d_15[0][0]']              \n",
            "                                                                                                  \n",
            " batch_normalization_14 (BatchN  (None, 32, 32, 16)  64          ['dropout_9[0][0]']              \n",
            " ormalization)                                                                                    \n",
            "                                                                                                  \n",
            " activation_14 (Activation)     (None, 32, 32, 16)   0           ['batch_normalization_14[0][0]'] \n",
            "                                                                                                  \n",
            " conv2d_16 (Conv2D)             (None, 32, 32, 64)   1088        ['activation_14[0][0]']          \n",
            "                                                                                                  \n",
            " add_4 (Add)                    (None, 32, 32, 64)   0           ['add_3[0][0]',                  \n",
            "                                                                  'conv2d_16[0][0]']              \n",
            "                                                                                                  \n",
            " batch_normalization_15 (BatchN  (None, 32, 32, 64)  256         ['add_4[0][0]']                  \n",
            " ormalization)                                                                                    \n",
            "                                                                                                  \n",
            " activation_15 (Activation)     (None, 32, 32, 64)   0           ['batch_normalization_15[0][0]'] \n",
            "                                                                                                  \n",
            " conv2d_17 (Conv2D)             (None, 32, 32, 16)   1040        ['activation_15[0][0]']          \n",
            "                                                                                                  \n",
            " dropout_10 (Dropout)           (None, 32, 32, 16)   0           ['conv2d_17[0][0]']              \n",
            "                                                                                                  \n",
            " batch_normalization_16 (BatchN  (None, 32, 32, 16)  64          ['dropout_10[0][0]']             \n",
            " ormalization)                                                                                    \n",
            "                                                                                                  \n",
            " activation_16 (Activation)     (None, 32, 32, 16)   0           ['batch_normalization_16[0][0]'] \n",
            "                                                                                                  \n",
            " conv2d_18 (Conv2D)             (None, 32, 32, 16)   2320        ['activation_16[0][0]']          \n",
            "                                                                                                  \n",
            " dropout_11 (Dropout)           (None, 32, 32, 16)   0           ['conv2d_18[0][0]']              \n",
            "                                                                                                  \n",
            " batch_normalization_17 (BatchN  (None, 32, 32, 16)  64          ['dropout_11[0][0]']             \n",
            " ormalization)                                                                                    \n",
            "                                                                                                  \n",
            " activation_17 (Activation)     (None, 32, 32, 16)   0           ['batch_normalization_17[0][0]'] \n",
            "                                                                                                  \n",
            " conv2d_19 (Conv2D)             (None, 32, 32, 64)   1088        ['activation_17[0][0]']          \n",
            "                                                                                                  \n",
            " add_5 (Add)                    (None, 32, 32, 64)   0           ['add_4[0][0]',                  \n",
            "                                                                  'conv2d_19[0][0]']              \n",
            "                                                                                                  \n",
            " batch_normalization_18 (BatchN  (None, 32, 32, 64)  256         ['add_5[0][0]']                  \n",
            " ormalization)                                                                                    \n",
            "                                                                                                  \n",
            " activation_18 (Activation)     (None, 32, 32, 64)   0           ['batch_normalization_18[0][0]'] \n",
            "                                                                                                  \n",
            " conv2d_20 (Conv2D)             (None, 16, 16, 64)   4160        ['activation_18[0][0]']          \n",
            "                                                                                                  \n",
            " dropout_12 (Dropout)           (None, 16, 16, 64)   0           ['conv2d_20[0][0]']              \n",
            "                                                                                                  \n",
            " batch_normalization_19 (BatchN  (None, 16, 16, 64)  256         ['dropout_12[0][0]']             \n",
            " ormalization)                                                                                    \n",
            "                                                                                                  \n",
            " activation_19 (Activation)     (None, 16, 16, 64)   0           ['batch_normalization_19[0][0]'] \n",
            "                                                                                                  \n",
            " conv2d_21 (Conv2D)             (None, 16, 16, 64)   36928       ['activation_19[0][0]']          \n",
            "                                                                                                  \n",
            " dropout_13 (Dropout)           (None, 16, 16, 64)   0           ['conv2d_21[0][0]']              \n",
            "                                                                                                  \n",
            " batch_normalization_20 (BatchN  (None, 16, 16, 64)  256         ['dropout_13[0][0]']             \n",
            " ormalization)                                                                                    \n",
            "                                                                                                  \n",
            " activation_20 (Activation)     (None, 16, 16, 64)   0           ['batch_normalization_20[0][0]'] \n",
            "                                                                                                  \n",
            " conv2d_23 (Conv2D)             (None, 16, 16, 128)  8320        ['add_5[0][0]']                  \n",
            "                                                                                                  \n",
            " conv2d_22 (Conv2D)             (None, 16, 16, 128)  8320        ['activation_20[0][0]']          \n",
            "                                                                                                  \n",
            " add_6 (Add)                    (None, 16, 16, 128)  0           ['conv2d_23[0][0]',              \n",
            "                                                                  'conv2d_22[0][0]']              \n",
            "                                                                                                  \n",
            " batch_normalization_21 (BatchN  (None, 16, 16, 128)  512        ['add_6[0][0]']                  \n",
            " ormalization)                                                                                    \n",
            "                                                                                                  \n",
            " activation_21 (Activation)     (None, 16, 16, 128)  0           ['batch_normalization_21[0][0]'] \n",
            "                                                                                                  \n",
            " conv2d_24 (Conv2D)             (None, 16, 16, 64)   8256        ['activation_21[0][0]']          \n",
            "                                                                                                  \n",
            " dropout_14 (Dropout)           (None, 16, 16, 64)   0           ['conv2d_24[0][0]']              \n",
            "                                                                                                  \n",
            " batch_normalization_22 (BatchN  (None, 16, 16, 64)  256         ['dropout_14[0][0]']             \n",
            " ormalization)                                                                                    \n",
            "                                                                                                  \n",
            " activation_22 (Activation)     (None, 16, 16, 64)   0           ['batch_normalization_22[0][0]'] \n",
            "                                                                                                  \n",
            " conv2d_25 (Conv2D)             (None, 16, 16, 64)   36928       ['activation_22[0][0]']          \n",
            "                                                                                                  \n",
            " dropout_15 (Dropout)           (None, 16, 16, 64)   0           ['conv2d_25[0][0]']              \n",
            "                                                                                                  \n",
            " batch_normalization_23 (BatchN  (None, 16, 16, 64)  256         ['dropout_15[0][0]']             \n",
            " ormalization)                                                                                    \n",
            "                                                                                                  \n",
            " activation_23 (Activation)     (None, 16, 16, 64)   0           ['batch_normalization_23[0][0]'] \n",
            "                                                                                                  \n",
            " conv2d_26 (Conv2D)             (None, 16, 16, 128)  8320        ['activation_23[0][0]']          \n",
            "                                                                                                  \n",
            " add_7 (Add)                    (None, 16, 16, 128)  0           ['add_6[0][0]',                  \n",
            "                                                                  'conv2d_26[0][0]']              \n",
            "                                                                                                  \n",
            " batch_normalization_24 (BatchN  (None, 16, 16, 128)  512        ['add_7[0][0]']                  \n",
            " ormalization)                                                                                    \n",
            "                                                                                                  \n",
            " activation_24 (Activation)     (None, 16, 16, 128)  0           ['batch_normalization_24[0][0]'] \n",
            "                                                                                                  \n",
            " conv2d_27 (Conv2D)             (None, 16, 16, 64)   8256        ['activation_24[0][0]']          \n",
            "                                                                                                  \n",
            " dropout_16 (Dropout)           (None, 16, 16, 64)   0           ['conv2d_27[0][0]']              \n",
            "                                                                                                  \n",
            " batch_normalization_25 (BatchN  (None, 16, 16, 64)  256         ['dropout_16[0][0]']             \n",
            " ormalization)                                                                                    \n",
            "                                                                                                  \n",
            " activation_25 (Activation)     (None, 16, 16, 64)   0           ['batch_normalization_25[0][0]'] \n",
            "                                                                                                  \n",
            " conv2d_28 (Conv2D)             (None, 16, 16, 64)   36928       ['activation_25[0][0]']          \n",
            "                                                                                                  \n",
            " dropout_17 (Dropout)           (None, 16, 16, 64)   0           ['conv2d_28[0][0]']              \n",
            "                                                                                                  \n",
            " batch_normalization_26 (BatchN  (None, 16, 16, 64)  256         ['dropout_17[0][0]']             \n",
            " ormalization)                                                                                    \n",
            "                                                                                                  \n",
            " activation_26 (Activation)     (None, 16, 16, 64)   0           ['batch_normalization_26[0][0]'] \n",
            "                                                                                                  \n",
            " conv2d_29 (Conv2D)             (None, 16, 16, 128)  8320        ['activation_26[0][0]']          \n",
            "                                                                                                  \n",
            " add_8 (Add)                    (None, 16, 16, 128)  0           ['add_7[0][0]',                  \n",
            "                                                                  'conv2d_29[0][0]']              \n",
            "                                                                                                  \n",
            " batch_normalization_27 (BatchN  (None, 16, 16, 128)  512        ['add_8[0][0]']                  \n",
            " ormalization)                                                                                    \n",
            "                                                                                                  \n",
            " activation_27 (Activation)     (None, 16, 16, 128)  0           ['batch_normalization_27[0][0]'] \n",
            "                                                                                                  \n",
            " conv2d_30 (Conv2D)             (None, 16, 16, 64)   8256        ['activation_27[0][0]']          \n",
            "                                                                                                  \n",
            " dropout_18 (Dropout)           (None, 16, 16, 64)   0           ['conv2d_30[0][0]']              \n",
            "                                                                                                  \n",
            " batch_normalization_28 (BatchN  (None, 16, 16, 64)  256         ['dropout_18[0][0]']             \n",
            " ormalization)                                                                                    \n",
            "                                                                                                  \n",
            " activation_28 (Activation)     (None, 16, 16, 64)   0           ['batch_normalization_28[0][0]'] \n",
            "                                                                                                  \n",
            " conv2d_31 (Conv2D)             (None, 16, 16, 64)   36928       ['activation_28[0][0]']          \n",
            "                                                                                                  \n",
            " dropout_19 (Dropout)           (None, 16, 16, 64)   0           ['conv2d_31[0][0]']              \n",
            "                                                                                                  \n",
            " batch_normalization_29 (BatchN  (None, 16, 16, 64)  256         ['dropout_19[0][0]']             \n",
            " ormalization)                                                                                    \n",
            "                                                                                                  \n",
            " activation_29 (Activation)     (None, 16, 16, 64)   0           ['batch_normalization_29[0][0]'] \n",
            "                                                                                                  \n",
            " conv2d_32 (Conv2D)             (None, 16, 16, 128)  8320        ['activation_29[0][0]']          \n",
            "                                                                                                  \n",
            " add_9 (Add)                    (None, 16, 16, 128)  0           ['add_8[0][0]',                  \n",
            "                                                                  'conv2d_32[0][0]']              \n",
            "                                                                                                  \n",
            " batch_normalization_30 (BatchN  (None, 16, 16, 128)  512        ['add_9[0][0]']                  \n",
            " ormalization)                                                                                    \n",
            "                                                                                                  \n",
            " activation_30 (Activation)     (None, 16, 16, 128)  0           ['batch_normalization_30[0][0]'] \n",
            "                                                                                                  \n",
            " conv2d_33 (Conv2D)             (None, 16, 16, 64)   8256        ['activation_30[0][0]']          \n",
            "                                                                                                  \n",
            " dropout_20 (Dropout)           (None, 16, 16, 64)   0           ['conv2d_33[0][0]']              \n",
            "                                                                                                  \n",
            " batch_normalization_31 (BatchN  (None, 16, 16, 64)  256         ['dropout_20[0][0]']             \n",
            " ormalization)                                                                                    \n",
            "                                                                                                  \n",
            " activation_31 (Activation)     (None, 16, 16, 64)   0           ['batch_normalization_31[0][0]'] \n",
            "                                                                                                  \n",
            " conv2d_34 (Conv2D)             (None, 16, 16, 64)   36928       ['activation_31[0][0]']          \n",
            "                                                                                                  \n",
            " dropout_21 (Dropout)           (None, 16, 16, 64)   0           ['conv2d_34[0][0]']              \n",
            "                                                                                                  \n",
            " batch_normalization_32 (BatchN  (None, 16, 16, 64)  256         ['dropout_21[0][0]']             \n",
            " ormalization)                                                                                    \n",
            "                                                                                                  \n",
            " activation_32 (Activation)     (None, 16, 16, 64)   0           ['batch_normalization_32[0][0]'] \n",
            "                                                                                                  \n",
            " conv2d_35 (Conv2D)             (None, 16, 16, 128)  8320        ['activation_32[0][0]']          \n",
            "                                                                                                  \n",
            " add_10 (Add)                   (None, 16, 16, 128)  0           ['add_9[0][0]',                  \n",
            "                                                                  'conv2d_35[0][0]']              \n",
            "                                                                                                  \n",
            " batch_normalization_33 (BatchN  (None, 16, 16, 128)  512        ['add_10[0][0]']                 \n",
            " ormalization)                                                                                    \n",
            "                                                                                                  \n",
            " activation_33 (Activation)     (None, 16, 16, 128)  0           ['batch_normalization_33[0][0]'] \n",
            "                                                                                                  \n",
            " conv2d_36 (Conv2D)             (None, 16, 16, 64)   8256        ['activation_33[0][0]']          \n",
            "                                                                                                  \n",
            " dropout_22 (Dropout)           (None, 16, 16, 64)   0           ['conv2d_36[0][0]']              \n",
            "                                                                                                  \n",
            " batch_normalization_34 (BatchN  (None, 16, 16, 64)  256         ['dropout_22[0][0]']             \n",
            " ormalization)                                                                                    \n",
            "                                                                                                  \n",
            " activation_34 (Activation)     (None, 16, 16, 64)   0           ['batch_normalization_34[0][0]'] \n",
            "                                                                                                  \n",
            " conv2d_37 (Conv2D)             (None, 16, 16, 64)   36928       ['activation_34[0][0]']          \n",
            "                                                                                                  \n",
            " dropout_23 (Dropout)           (None, 16, 16, 64)   0           ['conv2d_37[0][0]']              \n",
            "                                                                                                  \n",
            " batch_normalization_35 (BatchN  (None, 16, 16, 64)  256         ['dropout_23[0][0]']             \n",
            " ormalization)                                                                                    \n",
            "                                                                                                  \n",
            " activation_35 (Activation)     (None, 16, 16, 64)   0           ['batch_normalization_35[0][0]'] \n",
            "                                                                                                  \n",
            " conv2d_38 (Conv2D)             (None, 16, 16, 128)  8320        ['activation_35[0][0]']          \n",
            "                                                                                                  \n",
            " add_11 (Add)                   (None, 16, 16, 128)  0           ['add_10[0][0]',                 \n",
            "                                                                  'conv2d_38[0][0]']              \n",
            "                                                                                                  \n",
            " batch_normalization_36 (BatchN  (None, 16, 16, 128)  512        ['add_11[0][0]']                 \n",
            " ormalization)                                                                                    \n",
            "                                                                                                  \n",
            " activation_36 (Activation)     (None, 16, 16, 128)  0           ['batch_normalization_36[0][0]'] \n",
            "                                                                                                  \n",
            " conv2d_39 (Conv2D)             (None, 8, 8, 128)    16512       ['activation_36[0][0]']          \n",
            "                                                                                                  \n",
            " dropout_24 (Dropout)           (None, 8, 8, 128)    0           ['conv2d_39[0][0]']              \n",
            "                                                                                                  \n",
            " batch_normalization_37 (BatchN  (None, 8, 8, 128)   512         ['dropout_24[0][0]']             \n",
            " ormalization)                                                                                    \n",
            "                                                                                                  \n",
            " activation_37 (Activation)     (None, 8, 8, 128)    0           ['batch_normalization_37[0][0]'] \n",
            "                                                                                                  \n",
            " conv2d_40 (Conv2D)             (None, 8, 8, 128)    147584      ['activation_37[0][0]']          \n",
            "                                                                                                  \n",
            " dropout_25 (Dropout)           (None, 8, 8, 128)    0           ['conv2d_40[0][0]']              \n",
            "                                                                                                  \n",
            " batch_normalization_38 (BatchN  (None, 8, 8, 128)   512         ['dropout_25[0][0]']             \n",
            " ormalization)                                                                                    \n",
            "                                                                                                  \n",
            " activation_38 (Activation)     (None, 8, 8, 128)    0           ['batch_normalization_38[0][0]'] \n",
            "                                                                                                  \n",
            " conv2d_42 (Conv2D)             (None, 8, 8, 256)    33024       ['add_11[0][0]']                 \n",
            "                                                                                                  \n",
            " conv2d_41 (Conv2D)             (None, 8, 8, 256)    33024       ['activation_38[0][0]']          \n",
            "                                                                                                  \n",
            " add_12 (Add)                   (None, 8, 8, 256)    0           ['conv2d_42[0][0]',              \n",
            "                                                                  'conv2d_41[0][0]']              \n",
            "                                                                                                  \n",
            " batch_normalization_39 (BatchN  (None, 8, 8, 256)   1024        ['add_12[0][0]']                 \n",
            " ormalization)                                                                                    \n",
            "                                                                                                  \n",
            " activation_39 (Activation)     (None, 8, 8, 256)    0           ['batch_normalization_39[0][0]'] \n",
            "                                                                                                  \n",
            " conv2d_43 (Conv2D)             (None, 8, 8, 128)    32896       ['activation_39[0][0]']          \n",
            "                                                                                                  \n",
            " dropout_26 (Dropout)           (None, 8, 8, 128)    0           ['conv2d_43[0][0]']              \n",
            "                                                                                                  \n",
            " batch_normalization_40 (BatchN  (None, 8, 8, 128)   512         ['dropout_26[0][0]']             \n",
            " ormalization)                                                                                    \n",
            "                                                                                                  \n",
            " activation_40 (Activation)     (None, 8, 8, 128)    0           ['batch_normalization_40[0][0]'] \n",
            "                                                                                                  \n",
            " conv2d_44 (Conv2D)             (None, 8, 8, 128)    147584      ['activation_40[0][0]']          \n",
            "                                                                                                  \n",
            " dropout_27 (Dropout)           (None, 8, 8, 128)    0           ['conv2d_44[0][0]']              \n",
            "                                                                                                  \n",
            " batch_normalization_41 (BatchN  (None, 8, 8, 128)   512         ['dropout_27[0][0]']             \n",
            " ormalization)                                                                                    \n",
            "                                                                                                  \n",
            " activation_41 (Activation)     (None, 8, 8, 128)    0           ['batch_normalization_41[0][0]'] \n",
            "                                                                                                  \n",
            " conv2d_45 (Conv2D)             (None, 8, 8, 256)    33024       ['activation_41[0][0]']          \n",
            "                                                                                                  \n",
            " add_13 (Add)                   (None, 8, 8, 256)    0           ['add_12[0][0]',                 \n",
            "                                                                  'conv2d_45[0][0]']              \n",
            "                                                                                                  \n",
            " batch_normalization_42 (BatchN  (None, 8, 8, 256)   1024        ['add_13[0][0]']                 \n",
            " ormalization)                                                                                    \n",
            "                                                                                                  \n",
            " activation_42 (Activation)     (None, 8, 8, 256)    0           ['batch_normalization_42[0][0]'] \n",
            "                                                                                                  \n",
            " conv2d_46 (Conv2D)             (None, 8, 8, 128)    32896       ['activation_42[0][0]']          \n",
            "                                                                                                  \n",
            " dropout_28 (Dropout)           (None, 8, 8, 128)    0           ['conv2d_46[0][0]']              \n",
            "                                                                                                  \n",
            " batch_normalization_43 (BatchN  (None, 8, 8, 128)   512         ['dropout_28[0][0]']             \n",
            " ormalization)                                                                                    \n",
            "                                                                                                  \n",
            " activation_43 (Activation)     (None, 8, 8, 128)    0           ['batch_normalization_43[0][0]'] \n",
            "                                                                                                  \n",
            " conv2d_47 (Conv2D)             (None, 8, 8, 128)    147584      ['activation_43[0][0]']          \n",
            "                                                                                                  \n",
            " dropout_29 (Dropout)           (None, 8, 8, 128)    0           ['conv2d_47[0][0]']              \n",
            "                                                                                                  \n",
            " batch_normalization_44 (BatchN  (None, 8, 8, 128)   512         ['dropout_29[0][0]']             \n",
            " ormalization)                                                                                    \n",
            "                                                                                                  \n",
            " activation_44 (Activation)     (None, 8, 8, 128)    0           ['batch_normalization_44[0][0]'] \n",
            "                                                                                                  \n",
            " conv2d_48 (Conv2D)             (None, 8, 8, 256)    33024       ['activation_44[0][0]']          \n",
            "                                                                                                  \n",
            " add_14 (Add)                   (None, 8, 8, 256)    0           ['add_13[0][0]',                 \n",
            "                                                                  'conv2d_48[0][0]']              \n",
            "                                                                                                  \n",
            " batch_normalization_45 (BatchN  (None, 8, 8, 256)   1024        ['add_14[0][0]']                 \n",
            " ormalization)                                                                                    \n",
            "                                                                                                  \n",
            " activation_45 (Activation)     (None, 8, 8, 256)    0           ['batch_normalization_45[0][0]'] \n",
            "                                                                                                  \n",
            " conv2d_49 (Conv2D)             (None, 8, 8, 128)    32896       ['activation_45[0][0]']          \n",
            "                                                                                                  \n",
            " dropout_30 (Dropout)           (None, 8, 8, 128)    0           ['conv2d_49[0][0]']              \n",
            "                                                                                                  \n",
            " batch_normalization_46 (BatchN  (None, 8, 8, 128)   512         ['dropout_30[0][0]']             \n",
            " ormalization)                                                                                    \n",
            "                                                                                                  \n",
            " activation_46 (Activation)     (None, 8, 8, 128)    0           ['batch_normalization_46[0][0]'] \n",
            "                                                                                                  \n",
            " conv2d_50 (Conv2D)             (None, 8, 8, 128)    147584      ['activation_46[0][0]']          \n",
            "                                                                                                  \n",
            " dropout_31 (Dropout)           (None, 8, 8, 128)    0           ['conv2d_50[0][0]']              \n",
            "                                                                                                  \n",
            " batch_normalization_47 (BatchN  (None, 8, 8, 128)   512         ['dropout_31[0][0]']             \n",
            " ormalization)                                                                                    \n",
            "                                                                                                  \n",
            " activation_47 (Activation)     (None, 8, 8, 128)    0           ['batch_normalization_47[0][0]'] \n",
            "                                                                                                  \n",
            " conv2d_51 (Conv2D)             (None, 8, 8, 256)    33024       ['activation_47[0][0]']          \n",
            "                                                                                                  \n",
            " add_15 (Add)                   (None, 8, 8, 256)    0           ['add_14[0][0]',                 \n",
            "                                                                  'conv2d_51[0][0]']              \n",
            "                                                                                                  \n",
            " batch_normalization_48 (BatchN  (None, 8, 8, 256)   1024        ['add_15[0][0]']                 \n",
            " ormalization)                                                                                    \n",
            "                                                                                                  \n",
            " activation_48 (Activation)     (None, 8, 8, 256)    0           ['batch_normalization_48[0][0]'] \n",
            "                                                                                                  \n",
            " conv2d_52 (Conv2D)             (None, 8, 8, 128)    32896       ['activation_48[0][0]']          \n",
            "                                                                                                  \n",
            " dropout_32 (Dropout)           (None, 8, 8, 128)    0           ['conv2d_52[0][0]']              \n",
            "                                                                                                  \n",
            " batch_normalization_49 (BatchN  (None, 8, 8, 128)   512         ['dropout_32[0][0]']             \n",
            " ormalization)                                                                                    \n",
            "                                                                                                  \n",
            " activation_49 (Activation)     (None, 8, 8, 128)    0           ['batch_normalization_49[0][0]'] \n",
            "                                                                                                  \n",
            " conv2d_53 (Conv2D)             (None, 8, 8, 128)    147584      ['activation_49[0][0]']          \n",
            "                                                                                                  \n",
            " dropout_33 (Dropout)           (None, 8, 8, 128)    0           ['conv2d_53[0][0]']              \n",
            "                                                                                                  \n",
            " batch_normalization_50 (BatchN  (None, 8, 8, 128)   512         ['dropout_33[0][0]']             \n",
            " ormalization)                                                                                    \n",
            "                                                                                                  \n",
            " activation_50 (Activation)     (None, 8, 8, 128)    0           ['batch_normalization_50[0][0]'] \n",
            "                                                                                                  \n",
            " conv2d_54 (Conv2D)             (None, 8, 8, 256)    33024       ['activation_50[0][0]']          \n",
            "                                                                                                  \n",
            " add_16 (Add)                   (None, 8, 8, 256)    0           ['add_15[0][0]',                 \n",
            "                                                                  'conv2d_54[0][0]']              \n",
            "                                                                                                  \n",
            " batch_normalization_51 (BatchN  (None, 8, 8, 256)   1024        ['add_16[0][0]']                 \n",
            " ormalization)                                                                                    \n",
            "                                                                                                  \n",
            " activation_51 (Activation)     (None, 8, 8, 256)    0           ['batch_normalization_51[0][0]'] \n",
            "                                                                                                  \n",
            " conv2d_55 (Conv2D)             (None, 8, 8, 128)    32896       ['activation_51[0][0]']          \n",
            "                                                                                                  \n",
            " dropout_34 (Dropout)           (None, 8, 8, 128)    0           ['conv2d_55[0][0]']              \n",
            "                                                                                                  \n",
            " batch_normalization_52 (BatchN  (None, 8, 8, 128)   512         ['dropout_34[0][0]']             \n",
            " ormalization)                                                                                    \n",
            "                                                                                                  \n",
            " activation_52 (Activation)     (None, 8, 8, 128)    0           ['batch_normalization_52[0][0]'] \n",
            "                                                                                                  \n",
            " conv2d_56 (Conv2D)             (None, 8, 8, 128)    147584      ['activation_52[0][0]']          \n",
            "                                                                                                  \n",
            " dropout_35 (Dropout)           (None, 8, 8, 128)    0           ['conv2d_56[0][0]']              \n",
            "                                                                                                  \n",
            " batch_normalization_53 (BatchN  (None, 8, 8, 128)   512         ['dropout_35[0][0]']             \n",
            " ormalization)                                                                                    \n",
            "                                                                                                  \n",
            " activation_53 (Activation)     (None, 8, 8, 128)    0           ['batch_normalization_53[0][0]'] \n",
            "                                                                                                  \n",
            " conv2d_57 (Conv2D)             (None, 8, 8, 256)    33024       ['activation_53[0][0]']          \n",
            "                                                                                                  \n",
            " add_17 (Add)                   (None, 8, 8, 256)    0           ['add_16[0][0]',                 \n",
            "                                                                  'conv2d_57[0][0]']              \n",
            "                                                                                                  \n",
            " batch_normalization_54 (BatchN  (None, 8, 8, 256)   1024        ['add_17[0][0]']                 \n",
            " ormalization)                                                                                    \n",
            "                                                                                                  \n",
            " activation_54 (Activation)     (None, 8, 8, 256)    0           ['batch_normalization_54[0][0]'] \n",
            "                                                                                                  \n",
            " average_pooling2d (AveragePool  (None, 1, 1, 256)   0           ['activation_54[0][0]']          \n",
            " ing2D)                                                                                           \n",
            "                                                                                                  \n",
            " flatten (Flatten)              (None, 256)          0           ['average_pooling2d[0][0]']      \n",
            "                                                                                                  \n",
            " dense (Dense)                  (None, 10)           2570        ['flatten[0][0]']                \n",
            "                                                                                                  \n",
            "==================================================================================================\n",
            "Total params: 1,673,738\n",
            "Trainable params: 1,663,338\n",
            "Non-trainable params: 10,400\n",
            "__________________________________________________________________________________________________\n"
          ]
        }
      ]
    },
    {
      "cell_type": "markdown",
      "source": [
        "### First Run\n",
        "> run for 60 epochs and save checkpoints"
      ],
      "metadata": {
        "id": "VC6mDzhOYgNg"
      }
    },
    {
      "cell_type": "code",
      "source": [
        "import time\n",
        "from tensorflow.keras.callbacks import ModelCheckpoint\n",
        "checkpoint = ModelCheckpoint('/content/drive/MyDrive/kaggle/cifar/model/cifar.h5', monitor='val_accuracy', save_best_only=True)\n",
        "\n",
        "start_time = time.time()\n",
        "\n",
        "# Scheduler used inside the model to change the learning rate\n",
        "def sched(epoch, lr):\n",
        "    lr = 1e-3\n",
        "    if epoch > 50:\n",
        "        lr *= 0.5e-3\n",
        "    elif epoch > 40:\n",
        "        lr *= 1e-3\n",
        "    elif epoch > 30:\n",
        "        lr *= 1e-2\n",
        "    elif epoch > 20:\n",
        "        lr *= 1e-1\n",
        "    print('Learning rate: ', lr)\n",
        "    return lr\n",
        "    \n",
        "# Prepare callbacks for model saving and for learning rate adjustment.\n",
        "lr_scheduler = LearningRateScheduler(sched)\n",
        "\n",
        "lr_reducer = ReduceLROnPlateau(factor=np.sqrt(0.1),\n",
        "                               cooldown=0,\n",
        "                               patience=5,\n",
        "                               min_lr=0.5e-6)\n",
        "\n",
        "callbacks = [lr_reducer, lr_scheduler, checkpoint]"
      ],
      "metadata": {
        "id": "TTpPZ3FUWzq2"
      },
      "execution_count": null,
      "outputs": []
    },
    {
      "cell_type": "code",
      "source": [
        "model.fit(train_ds,\n",
        "              batch_size=BATCH_SIZE,\n",
        "              epochs=60,\n",
        "              validation_data=val_ds,\n",
        "              shuffle=True,\n",
        "              callbacks=callbacks)"
      ],
      "metadata": {
        "id": "ad4b6DZcoEtS",
        "colab": {
          "base_uri": "https://localhost:8080/"
        },
        "outputId": "c8f80fab-daa3-4f0d-9b0c-5b0009a010ee"
      },
      "execution_count": null,
      "outputs": [
        {
          "output_type": "stream",
          "name": "stdout",
          "text": [
            "Learning rate:  0.001\n",
            "Epoch 1/60\n",
            "626/626 [==============================] - 145s 218ms/step - loss: 2.3078 - accuracy: 0.4181 - val_loss: 1.9531 - val_accuracy: 0.4859 - lr: 0.0010\n",
            "Learning rate:  0.001\n",
            "Epoch 2/60\n",
            "626/626 [==============================] - 134s 212ms/step - loss: 1.7198 - accuracy: 0.5348 - val_loss: 1.6276 - val_accuracy: 0.5525 - lr: 0.0010\n",
            "Learning rate:  0.001\n",
            "Epoch 3/60\n",
            "626/626 [==============================] - 133s 211ms/step - loss: 1.5102 - accuracy: 0.5831 - val_loss: 1.7099 - val_accuracy: 0.5028 - lr: 0.0010\n",
            "Learning rate:  0.001\n",
            "Epoch 4/60\n",
            "626/626 [==============================] - 132s 209ms/step - loss: 1.3779 - accuracy: 0.6173 - val_loss: 1.8462 - val_accuracy: 0.4832 - lr: 0.0010\n",
            "Learning rate:  0.001\n",
            "Epoch 5/60\n",
            "626/626 [==============================] - 135s 214ms/step - loss: 1.2788 - accuracy: 0.6479 - val_loss: 1.4082 - val_accuracy: 0.6043 - lr: 0.0010\n",
            "Learning rate:  0.001\n",
            "Epoch 6/60\n",
            "626/626 [==============================] - 131s 208ms/step - loss: 1.2039 - accuracy: 0.6728 - val_loss: 1.4715 - val_accuracy: 0.5981 - lr: 0.0010\n",
            "Learning rate:  0.001\n",
            "Epoch 7/60\n",
            "626/626 [==============================] - 133s 211ms/step - loss: 1.1481 - accuracy: 0.6909 - val_loss: 1.3441 - val_accuracy: 0.6234 - lr: 0.0010\n",
            "Learning rate:  0.001\n",
            "Epoch 8/60\n",
            "626/626 [==============================] - 132s 209ms/step - loss: 1.1068 - accuracy: 0.7041 - val_loss: 1.4966 - val_accuracy: 0.6074 - lr: 0.0010\n",
            "Learning rate:  0.001\n",
            "Epoch 9/60\n",
            "626/626 [==============================] - 130s 207ms/step - loss: 1.0699 - accuracy: 0.7161 - val_loss: 1.7096 - val_accuracy: 0.5370 - lr: 0.0010\n",
            "Learning rate:  0.001\n",
            "Epoch 10/60\n",
            "626/626 [==============================] - 133s 210ms/step - loss: 1.0419 - accuracy: 0.7253 - val_loss: 1.2789 - val_accuracy: 0.6627 - lr: 0.0010\n",
            "Learning rate:  0.001\n",
            "Epoch 11/60\n",
            "626/626 [==============================] - 130s 207ms/step - loss: 1.0123 - accuracy: 0.7341 - val_loss: 1.3396 - val_accuracy: 0.6335 - lr: 0.0010\n",
            "Learning rate:  0.001\n",
            "Epoch 12/60\n",
            "626/626 [==============================] - 131s 208ms/step - loss: 0.9924 - accuracy: 0.7417 - val_loss: 1.4762 - val_accuracy: 0.6177 - lr: 0.0010\n",
            "Learning rate:  0.001\n",
            "Epoch 13/60\n",
            "626/626 [==============================] - 130s 207ms/step - loss: 0.9703 - accuracy: 0.7484 - val_loss: 1.3529 - val_accuracy: 0.6543 - lr: 0.0010\n",
            "Learning rate:  0.001\n",
            "Epoch 14/60\n",
            "626/626 [==============================] - 132s 210ms/step - loss: 0.9549 - accuracy: 0.7525 - val_loss: 1.2449 - val_accuracy: 0.6675 - lr: 0.0010\n",
            "Learning rate:  0.001\n",
            "Epoch 15/60\n",
            "626/626 [==============================] - 131s 208ms/step - loss: 0.9369 - accuracy: 0.7586 - val_loss: 1.9173 - val_accuracy: 0.5667 - lr: 0.0010\n",
            "Learning rate:  0.001\n",
            "Epoch 16/60\n",
            "626/626 [==============================] - 131s 207ms/step - loss: 0.9231 - accuracy: 0.7630 - val_loss: 1.3543 - val_accuracy: 0.6516 - lr: 0.0010\n",
            "Learning rate:  0.001\n",
            "Epoch 17/60\n",
            "626/626 [==============================] - 131s 208ms/step - loss: 0.9109 - accuracy: 0.7684 - val_loss: 1.5615 - val_accuracy: 0.5961 - lr: 0.0010\n",
            "Learning rate:  0.001\n",
            "Epoch 18/60\n",
            "626/626 [==============================] - 130s 206ms/step - loss: 0.9044 - accuracy: 0.7705 - val_loss: 1.3301 - val_accuracy: 0.6666 - lr: 0.0010\n",
            "Learning rate:  0.001\n",
            "Epoch 19/60\n",
            "626/626 [==============================] - 131s 208ms/step - loss: 0.8928 - accuracy: 0.7745 - val_loss: 1.2024 - val_accuracy: 0.6710 - lr: 0.0010\n",
            "Learning rate:  0.001\n",
            "Epoch 20/60\n",
            "626/626 [==============================] - 131s 208ms/step - loss: 0.8791 - accuracy: 0.7803 - val_loss: 1.1155 - val_accuracy: 0.7055 - lr: 0.0010\n",
            "Learning rate:  0.001\n",
            "Epoch 21/60\n",
            "626/626 [==============================] - 132s 209ms/step - loss: 0.8708 - accuracy: 0.7809 - val_loss: 1.4637 - val_accuracy: 0.6312 - lr: 0.0010\n",
            "Learning rate:  0.0001\n",
            "Epoch 22/60\n",
            "626/626 [==============================] - 187s 298ms/step - loss: 0.8092 - accuracy: 0.8040 - val_loss: 0.8387 - val_accuracy: 0.7938 - lr: 1.0000e-04\n",
            "Learning rate:  0.0001\n",
            "Epoch 23/60\n",
            "626/626 [==============================] - 130s 206ms/step - loss: 0.7520 - accuracy: 0.8219 - val_loss: 0.8461 - val_accuracy: 0.7895 - lr: 1.0000e-04\n",
            "Learning rate:  0.0001\n",
            "Epoch 24/60\n",
            "626/626 [==============================] - 131s 208ms/step - loss: 0.7306 - accuracy: 0.8285 - val_loss: 0.8136 - val_accuracy: 0.7996 - lr: 1.0000e-04\n",
            "Learning rate:  0.0001\n",
            "Epoch 25/60\n",
            "626/626 [==============================] - 130s 205ms/step - loss: 0.7123 - accuracy: 0.8332 - val_loss: 0.8184 - val_accuracy: 0.7965 - lr: 1.0000e-04\n",
            "Learning rate:  0.0001\n",
            "Epoch 26/60\n",
            "626/626 [==============================] - 131s 209ms/step - loss: 0.6962 - accuracy: 0.8375 - val_loss: 0.7788 - val_accuracy: 0.8085 - lr: 1.0000e-04\n",
            "Learning rate:  0.0001\n",
            "Epoch 27/60\n",
            "626/626 [==============================] - 130s 206ms/step - loss: 0.6816 - accuracy: 0.8404 - val_loss: 0.7873 - val_accuracy: 0.8045 - lr: 1.0000e-04\n",
            "Learning rate:  0.0001\n",
            "Epoch 28/60\n",
            "626/626 [==============================] - 131s 208ms/step - loss: 0.6720 - accuracy: 0.8435 - val_loss: 0.7837 - val_accuracy: 0.8056 - lr: 1.0000e-04\n",
            "Learning rate:  0.0001\n",
            "Epoch 29/60\n",
            "626/626 [==============================] - 130s 206ms/step - loss: 0.6594 - accuracy: 0.8469 - val_loss: 0.7988 - val_accuracy: 0.8074 - lr: 1.0000e-04\n",
            "Learning rate:  0.0001\n",
            "Epoch 30/60\n",
            "626/626 [==============================] - 131s 209ms/step - loss: 0.6501 - accuracy: 0.8487 - val_loss: 0.7506 - val_accuracy: 0.8159 - lr: 1.0000e-04\n",
            "Learning rate:  0.0001\n",
            "Epoch 31/60\n",
            "626/626 [==============================] - 130s 206ms/step - loss: 0.6430 - accuracy: 0.8488 - val_loss: 0.7816 - val_accuracy: 0.8023 - lr: 1.0000e-04\n",
            "Learning rate:  1e-05\n",
            "Epoch 32/60\n",
            "626/626 [==============================] - 131s 208ms/step - loss: 0.6523 - accuracy: 0.8457 - val_loss: 0.7276 - val_accuracy: 0.8232 - lr: 1.0000e-05\n",
            "Learning rate:  1e-05\n",
            "Epoch 33/60\n",
            "626/626 [==============================] - 130s 206ms/step - loss: 0.6409 - accuracy: 0.8507 - val_loss: 0.7145 - val_accuracy: 0.8268 - lr: 1.0000e-05\n",
            "Learning rate:  1e-05\n",
            "Epoch 34/60\n",
            "626/626 [==============================] - 130s 207ms/step - loss: 0.6343 - accuracy: 0.8525 - val_loss: 0.7199 - val_accuracy: 0.8247 - lr: 1.0000e-05\n",
            "Learning rate:  1e-05\n",
            "Epoch 35/60\n",
            "626/626 [==============================] - 131s 207ms/step - loss: 0.6308 - accuracy: 0.8542 - val_loss: 0.7109 - val_accuracy: 0.8270 - lr: 1.0000e-05\n",
            "Learning rate:  1e-05\n",
            "Epoch 36/60\n",
            "626/626 [==============================] - 143s 226ms/step - loss: 0.6309 - accuracy: 0.8550 - val_loss: 0.7094 - val_accuracy: 0.8276 - lr: 1.0000e-05\n",
            "Learning rate:  1e-05\n",
            "Epoch 37/60\n",
            "626/626 [==============================] - 130s 206ms/step - loss: 0.6276 - accuracy: 0.8565 - val_loss: 0.7060 - val_accuracy: 0.8302 - lr: 1.0000e-05\n",
            "Learning rate:  1e-05\n",
            "Epoch 38/60\n",
            "626/626 [==============================] - 130s 206ms/step - loss: 0.6254 - accuracy: 0.8560 - val_loss: 0.7038 - val_accuracy: 0.8302 - lr: 1.0000e-05\n",
            "Learning rate:  1e-05\n",
            "Epoch 39/60\n",
            "626/626 [==============================] - 130s 206ms/step - loss: 0.6236 - accuracy: 0.8562 - val_loss: 0.7061 - val_accuracy: 0.8296 - lr: 1.0000e-05\n",
            "Learning rate:  1e-05\n",
            "Epoch 40/60\n",
            "626/626 [==============================] - 133s 211ms/step - loss: 0.6192 - accuracy: 0.8560 - val_loss: 0.7037 - val_accuracy: 0.8308 - lr: 1.0000e-05\n",
            "Learning rate:  1e-05\n",
            "Epoch 41/60\n",
            "626/626 [==============================] - 131s 207ms/step - loss: 0.6231 - accuracy: 0.8563 - val_loss: 0.7130 - val_accuracy: 0.8276 - lr: 1.0000e-05\n",
            "Learning rate:  1e-06\n",
            "Epoch 42/60\n",
            "626/626 [==============================] - 134s 212ms/step - loss: 0.6185 - accuracy: 0.8571 - val_loss: 0.7025 - val_accuracy: 0.8325 - lr: 1.0000e-06\n",
            "Learning rate:  1e-06\n",
            "Epoch 43/60\n",
            "626/626 [==============================] - 133s 211ms/step - loss: 0.6190 - accuracy: 0.8582 - val_loss: 0.7017 - val_accuracy: 0.8326 - lr: 1.0000e-06\n",
            "Learning rate:  1e-06\n",
            "Epoch 44/60\n",
            "626/626 [==============================] - 135s 214ms/step - loss: 0.6174 - accuracy: 0.8582 - val_loss: 0.6997 - val_accuracy: 0.8334 - lr: 1.0000e-06\n",
            "Learning rate:  1e-06\n",
            "Epoch 45/60\n",
            "626/626 [==============================] - 134s 212ms/step - loss: 0.6178 - accuracy: 0.8571 - val_loss: 0.6970 - val_accuracy: 0.8345 - lr: 1.0000e-06\n",
            "Learning rate:  1e-06\n",
            "Epoch 46/60\n",
            "626/626 [==============================] - 133s 211ms/step - loss: 0.6202 - accuracy: 0.8570 - val_loss: 0.6968 - val_accuracy: 0.8344 - lr: 1.0000e-06\n",
            "Learning rate:  1e-06\n",
            "Epoch 47/60\n",
            "626/626 [==============================] - 133s 211ms/step - loss: 0.6193 - accuracy: 0.8581 - val_loss: 0.6941 - val_accuracy: 0.8355 - lr: 1.0000e-06\n",
            "Learning rate:  1e-06\n",
            "Epoch 48/60\n",
            "626/626 [==============================] - 133s 211ms/step - loss: 0.6183 - accuracy: 0.8567 - val_loss: 0.6929 - val_accuracy: 0.8366 - lr: 1.0000e-06\n",
            "Learning rate:  1e-06\n",
            "Epoch 49/60\n",
            "626/626 [==============================] - 134s 213ms/step - loss: 0.6228 - accuracy: 0.8558 - val_loss: 0.6927 - val_accuracy: 0.8361 - lr: 1.0000e-06\n",
            "Learning rate:  1e-06\n",
            "Epoch 50/60\n",
            "626/626 [==============================] - 134s 212ms/step - loss: 0.6168 - accuracy: 0.8586 - val_loss: 0.6932 - val_accuracy: 0.8367 - lr: 1.0000e-06\n",
            "Learning rate:  1e-06\n",
            "Epoch 51/60\n",
            "626/626 [==============================] - 135s 214ms/step - loss: 0.6157 - accuracy: 0.8580 - val_loss: 0.6920 - val_accuracy: 0.8367 - lr: 1.0000e-06\n",
            "Learning rate:  5e-07\n",
            "Epoch 52/60\n",
            "626/626 [==============================] - 144s 228ms/step - loss: 0.6138 - accuracy: 0.8594 - val_loss: 0.6917 - val_accuracy: 0.8366 - lr: 5.0000e-07\n",
            "Learning rate:  5e-07\n",
            "Epoch 53/60\n",
            "626/626 [==============================] - 136s 216ms/step - loss: 0.6189 - accuracy: 0.8569 - val_loss: 0.6914 - val_accuracy: 0.8365 - lr: 5.0000e-07\n",
            "Learning rate:  5e-07\n",
            "Epoch 54/60\n",
            "626/626 [==============================] - 136s 216ms/step - loss: 0.6186 - accuracy: 0.8580 - val_loss: 0.6922 - val_accuracy: 0.8364 - lr: 5.0000e-07\n",
            "Learning rate:  5e-07\n",
            "Epoch 55/60\n",
            "626/626 [==============================] - 134s 212ms/step - loss: 0.6175 - accuracy: 0.8578 - val_loss: 0.6918 - val_accuracy: 0.8363 - lr: 5.0000e-07\n",
            "Learning rate:  5e-07\n",
            "Epoch 56/60\n",
            "626/626 [==============================] - 133s 211ms/step - loss: 0.6149 - accuracy: 0.8592 - val_loss: 0.6921 - val_accuracy: 0.8366 - lr: 5.0000e-07\n",
            "Learning rate:  5e-07\n",
            "Epoch 57/60\n",
            "626/626 [==============================] - 133s 210ms/step - loss: 0.6183 - accuracy: 0.8575 - val_loss: 0.6917 - val_accuracy: 0.8361 - lr: 5.0000e-07\n",
            "Learning rate:  5e-07\n",
            "Epoch 58/60\n",
            "626/626 [==============================] - 133s 211ms/step - loss: 0.6182 - accuracy: 0.8579 - val_loss: 0.6922 - val_accuracy: 0.8360 - lr: 5.0000e-07\n",
            "Learning rate:  5e-07\n",
            "Epoch 59/60\n",
            "626/626 [==============================] - 133s 212ms/step - loss: 0.6159 - accuracy: 0.8572 - val_loss: 0.6916 - val_accuracy: 0.8366 - lr: 5.0000e-07\n",
            "Learning rate:  5e-07\n",
            "Epoch 60/60\n",
            "626/626 [==============================] - 133s 210ms/step - loss: 0.6169 - accuracy: 0.8582 - val_loss: 0.6907 - val_accuracy: 0.8363 - lr: 5.0000e-07\n"
          ]
        },
        {
          "output_type": "execute_result",
          "data": {
            "text/plain": [
              "<keras.callbacks.History at 0x7f95d34580d0>"
            ]
          },
          "metadata": {},
          "execution_count": 45
        }
      ]
    },
    {
      "cell_type": "markdown",
      "source": [
        "### Second Run:\n",
        "> run another 30 epochs with different schedular"
      ],
      "metadata": {
        "id": "lUbKvc-jYBrj"
      }
    },
    {
      "cell_type": "code",
      "source": [
        "def sched(epoch, lr):\n",
        "    lr = 1e-4\n",
        "    if epoch > 25:\n",
        "        lr *= 0.5e-2\n",
        "    elif epoch > 20:\n",
        "        lr *= 1e-2\n",
        "    elif epoch > 10:\n",
        "        lr *= 1e-1\n",
        "    print('Learning rate: ', lr)\n",
        "    return lr\n",
        "\n",
        "# Save old model weights to be called next\n",
        "model.save('/content/drive/MyDrive/kaggle/cifar/model/cifar2.h5')\n",
        "# Prepare callbacks for model saving and for learning rate adjustment.\n",
        "lr_scheduler = LearningRateScheduler(sched)\n",
        "\n",
        "lr_reducer = ReduceLROnPlateau(factor=np.sqrt(0.1),\n",
        "                               cooldown=0,\n",
        "                               patience=5,\n",
        "                               min_lr=0.5e-6)"
      ],
      "metadata": {
        "id": "84r48bRVX7v3"
      },
      "execution_count": null,
      "outputs": []
    },
    {
      "cell_type": "code",
      "source": [
        "input_shape = (32,32,3)\n",
        "model = resnet(input_shape,56,0.2)\n",
        "\n",
        "model.compile(loss=tf.keras.losses.SparseCategoricalCrossentropy(from_logits=True),\n",
        "              optimizer=Adam(lr=sched(0, 0)),\n",
        "              metrics=['accuracy'])\n",
        "\n",
        "model.load_weights('/content/drive/MyDrive/kaggle/cifar/model/cifar2.h5')\n",
        "\n",
        "callbacks = [lr_reducer, lr_scheduler, checkpoint]\n",
        "\n",
        "model.fit(train_ds,\n",
        "              batch_size=BATCH_SIZE,\n",
        "              epochs=30,\n",
        "              validation_data=val_ds,\n",
        "              shuffle=True,\n",
        "              callbacks=callbacks)\n",
        "model.save('/content/drive/MyDrive/kaggle/cifar/model/cifar2.h5')"
      ],
      "metadata": {
        "colab": {
          "base_uri": "https://localhost:8080/"
        },
        "id": "ZbFEZTULX--h",
        "outputId": "f4648adb-3f7a-45c9-f1cd-15dee4d9f636"
      },
      "execution_count": null,
      "outputs": [
        {
          "output_type": "stream",
          "name": "stdout",
          "text": [
            "Learning rate:  0.0001\n",
            "Learning rate:  0.0001\n",
            "Epoch 1/30\n",
            "626/626 [==============================] - 147s 217ms/step - loss: 0.5751 - accuracy: 0.8713 - val_loss: 0.6959 - val_accuracy: 0.8335 - lr: 1.0000e-04\n",
            "Learning rate:  0.0001\n",
            "Epoch 2/30\n",
            "626/626 [==============================] - 134s 213ms/step - loss: 0.5628 - accuracy: 0.8758 - val_loss: 0.6894 - val_accuracy: 0.8326 - lr: 1.0000e-04\n",
            "Learning rate:  0.0001\n",
            "Epoch 3/30\n",
            "626/626 [==============================] - 140s 222ms/step - loss: 0.5522 - accuracy: 0.8780 - val_loss: 0.6747 - val_accuracy: 0.8389 - lr: 1.0000e-04\n",
            "Learning rate:  0.0001\n",
            "Epoch 4/30\n",
            "626/626 [==============================] - 148s 234ms/step - loss: 0.5459 - accuracy: 0.8802 - val_loss: 0.7065 - val_accuracy: 0.8282 - lr: 1.0000e-04\n",
            "Learning rate:  0.0001\n",
            "Epoch 5/30\n",
            "626/626 [==============================] - 132s 210ms/step - loss: 0.5386 - accuracy: 0.8813 - val_loss: 0.6798 - val_accuracy: 0.8342 - lr: 1.0000e-04\n",
            "Learning rate:  0.0001\n",
            "Epoch 6/30\n",
            "626/626 [==============================] - 133s 211ms/step - loss: 0.5268 - accuracy: 0.8858 - val_loss: 0.6750 - val_accuracy: 0.8409 - lr: 1.0000e-04\n",
            "Learning rate:  0.0001\n",
            "Epoch 7/30\n",
            "626/626 [==============================] - 132s 209ms/step - loss: 0.5229 - accuracy: 0.8866 - val_loss: 0.7029 - val_accuracy: 0.8283 - lr: 1.0000e-04\n",
            "Learning rate:  0.0001\n",
            "Epoch 8/30\n",
            "626/626 [==============================] - 132s 210ms/step - loss: 0.5174 - accuracy: 0.8875 - val_loss: 0.6947 - val_accuracy: 0.8337 - lr: 3.1623e-05\n",
            "Learning rate:  0.0001\n",
            "Epoch 9/30\n",
            "626/626 [==============================] - 132s 209ms/step - loss: 0.5075 - accuracy: 0.8897 - val_loss: 0.6774 - val_accuracy: 0.8368 - lr: 1.0000e-04\n",
            "Learning rate:  0.0001\n",
            "Epoch 10/30\n",
            "626/626 [==============================] - 133s 211ms/step - loss: 0.4990 - accuracy: 0.8927 - val_loss: 0.6612 - val_accuracy: 0.8416 - lr: 1.0000e-04\n",
            "Learning rate:  0.0001\n",
            "Epoch 11/30\n",
            "626/626 [==============================] - 132s 210ms/step - loss: 0.4969 - accuracy: 0.8933 - val_loss: 0.6899 - val_accuracy: 0.8320 - lr: 1.0000e-04\n",
            "Learning rate:  1e-05\n",
            "Epoch 12/30\n",
            "626/626 [==============================] - 133s 211ms/step - loss: 0.5013 - accuracy: 0.8938 - val_loss: 0.6224 - val_accuracy: 0.8561 - lr: 1.0000e-05\n",
            "Learning rate:  1e-05\n",
            "Epoch 13/30\n",
            "626/626 [==============================] - 133s 211ms/step - loss: 0.4863 - accuracy: 0.8975 - val_loss: 0.6144 - val_accuracy: 0.8595 - lr: 1.0000e-05\n",
            "Learning rate:  1e-05\n",
            "Epoch 14/30\n",
            "626/626 [==============================] - 133s 211ms/step - loss: 0.4824 - accuracy: 0.8990 - val_loss: 0.6223 - val_accuracy: 0.8562 - lr: 1.0000e-05\n",
            "Learning rate:  1e-05\n",
            "Epoch 15/30\n",
            "626/626 [==============================] - 133s 211ms/step - loss: 0.4820 - accuracy: 0.8982 - val_loss: 0.6086 - val_accuracy: 0.8603 - lr: 1.0000e-05\n",
            "Learning rate:  1e-05\n",
            "Epoch 16/30\n",
            "626/626 [==============================] - 133s 210ms/step - loss: 0.4737 - accuracy: 0.9020 - val_loss: 0.6091 - val_accuracy: 0.8609 - lr: 1.0000e-05\n",
            "Learning rate:  1e-05\n",
            "Epoch 17/30\n",
            "626/626 [==============================] - 133s 211ms/step - loss: 0.4712 - accuracy: 0.9018 - val_loss: 0.6159 - val_accuracy: 0.8575 - lr: 1.0000e-05\n",
            "Learning rate:  1e-05\n",
            "Epoch 18/30\n",
            "626/626 [==============================] - 133s 212ms/step - loss: 0.4763 - accuracy: 0.9012 - val_loss: 0.6116 - val_accuracy: 0.8606 - lr: 1.0000e-05\n",
            "Learning rate:  1e-05\n",
            "Epoch 19/30\n",
            "626/626 [==============================] - 136s 216ms/step - loss: 0.4737 - accuracy: 0.9008 - val_loss: 0.6186 - val_accuracy: 0.8574 - lr: 1.0000e-05\n",
            "Learning rate:  1e-05\n",
            "Epoch 20/30\n",
            "626/626 [==============================] - 137s 216ms/step - loss: 0.4710 - accuracy: 0.9027 - val_loss: 0.6152 - val_accuracy: 0.8584 - lr: 3.1623e-06\n",
            "Learning rate:  1e-05\n",
            "Epoch 21/30\n",
            "626/626 [==============================] - 135s 215ms/step - loss: 0.4677 - accuracy: 0.9029 - val_loss: 0.6154 - val_accuracy: 0.8578 - lr: 1.0000e-05\n",
            "Learning rate:  1.0000000000000002e-06\n",
            "Epoch 22/30\n",
            "626/626 [==============================] - 135s 214ms/step - loss: 0.4678 - accuracy: 0.9024 - val_loss: 0.6079 - val_accuracy: 0.8614 - lr: 1.0000e-06\n",
            "Learning rate:  1.0000000000000002e-06\n",
            "Epoch 23/30\n",
            "626/626 [==============================] - 137s 217ms/step - loss: 0.4676 - accuracy: 0.9020 - val_loss: 0.6055 - val_accuracy: 0.8622 - lr: 1.0000e-06\n",
            "Learning rate:  1.0000000000000002e-06\n",
            "Epoch 24/30\n",
            "626/626 [==============================] - 135s 215ms/step - loss: 0.4648 - accuracy: 0.9043 - val_loss: 0.6025 - val_accuracy: 0.8632 - lr: 1.0000e-06\n",
            "Learning rate:  1.0000000000000002e-06\n",
            "Epoch 25/30\n",
            "626/626 [==============================] - 134s 213ms/step - loss: 0.4676 - accuracy: 0.9018 - val_loss: 0.6021 - val_accuracy: 0.8639 - lr: 1.0000e-06\n",
            "Learning rate:  1.0000000000000002e-06\n",
            "Epoch 26/30\n",
            "626/626 [==============================] - 135s 213ms/step - loss: 0.4662 - accuracy: 0.9035 - val_loss: 0.6023 - val_accuracy: 0.8642 - lr: 1.0000e-06\n",
            "Learning rate:  5.000000000000001e-07\n",
            "Epoch 27/30\n",
            "626/626 [==============================] - 134s 212ms/step - loss: 0.4631 - accuracy: 0.9045 - val_loss: 0.6007 - val_accuracy: 0.8644 - lr: 5.0000e-07\n",
            "Learning rate:  5.000000000000001e-07\n",
            "Epoch 28/30\n",
            "626/626 [==============================] - 133s 210ms/step - loss: 0.4644 - accuracy: 0.9040 - val_loss: 0.6007 - val_accuracy: 0.8649 - lr: 5.0000e-07\n",
            "Learning rate:  5.000000000000001e-07\n",
            "Epoch 29/30\n",
            "626/626 [==============================] - 133s 210ms/step - loss: 0.4653 - accuracy: 0.9035 - val_loss: 0.6010 - val_accuracy: 0.8649 - lr: 5.0000e-07\n",
            "Learning rate:  5.000000000000001e-07\n",
            "Epoch 30/30\n",
            "626/626 [==============================] - 135s 214ms/step - loss: 0.4651 - accuracy: 0.9046 - val_loss: 0.6002 - val_accuracy: 0.8651 - lr: 5.0000e-07\n"
          ]
        },
        {
          "output_type": "execute_result",
          "data": {
            "text/plain": [
              "<keras.callbacks.History at 0x7f96c17aecd0>"
            ]
          },
          "metadata": {},
          "execution_count": 51
        }
      ]
    },
    {
      "cell_type": "markdown",
      "source": [
        "### Third Run\n",
        "> final 6 epochs \n"
      ],
      "metadata": {
        "id": "z5TCM7ezXb0I"
      }
    },
    {
      "cell_type": "code",
      "source": [
        "input_shape = (32,32,3)\n",
        "dropout = 0.1\n",
        "\n",
        "for i in range(3):\n",
        "    model = resnet(input_shape,56,dropout)\n",
        "    dropout = dropout/2\n",
        "\n",
        "    model.compile(loss=tf.keras.losses.SparseCategoricalCrossentropy(from_logits=True),\n",
        "                optimizer=Adam(lr=sched(0, 0)),\n",
        "                metrics=['accuracy'])\n",
        "    model.load_weights('/content/drive/MyDrive/kaggle/cifar/model/cifar3.h5')\n",
        "    callbacks = [lr_reducer, lr_scheduler, checkpoint]\n",
        "\n",
        "    model.fit(train_ds,\n",
        "                batch_size=BATCH_SIZE,\n",
        "                epochs=2,\n",
        "                validation_data=val_ds,\n",
        "                shuffle=True,\n",
        "                callbacks=callbacks)\n",
        "    model.save('/content/drive/MyDrive/kaggle/cifar/model/cifar3.h5')"
      ],
      "metadata": {
        "colab": {
          "base_uri": "https://localhost:8080/"
        },
        "id": "OMdXyHOogTbH",
        "outputId": "33cc6b69-493a-4df9-d10e-cc93eb1b046e"
      },
      "execution_count": 29,
      "outputs": [
        {
          "output_type": "stream",
          "name": "stderr",
          "text": [
            "WARNING:absl:`lr` is deprecated, please use `learning_rate` instead, or use the legacy optimizer, e.g.,tf.keras.optimizers.legacy.Adam.\n"
          ]
        },
        {
          "output_type": "stream",
          "name": "stdout",
          "text": [
            "Learning rate:  1e-05\n",
            "Learning rate:  1e-05\n",
            "Epoch 1/2\n",
            "626/626 [==============================] - 210s 267ms/step - loss: 0.4285 - accuracy: 0.9159 - val_loss: 0.5801 - val_accuracy: 0.8729 - lr: 1.0000e-05\n",
            "Learning rate:  1e-05\n",
            "Epoch 2/2\n",
            "626/626 [==============================] - 163s 259ms/step - loss: 0.4250 - accuracy: 0.9168 - val_loss: 0.5815 - val_accuracy: 0.8725 - lr: 1.0000e-05\n"
          ]
        },
        {
          "output_type": "stream",
          "name": "stderr",
          "text": [
            "WARNING:absl:`lr` is deprecated, please use `learning_rate` instead, or use the legacy optimizer, e.g.,tf.keras.optimizers.legacy.Adam.\n"
          ]
        },
        {
          "output_type": "stream",
          "name": "stdout",
          "text": [
            "Learning rate:  1e-05\n",
            "Learning rate:  1e-05\n",
            "Epoch 1/2\n",
            "626/626 [==============================] - 210s 267ms/step - loss: 0.4007 - accuracy: 0.9253 - val_loss: 0.5792 - val_accuracy: 0.8720 - lr: 1.0000e-05\n",
            "Learning rate:  1e-05\n",
            "Epoch 2/2\n",
            "626/626 [==============================] - 166s 264ms/step - loss: 0.3945 - accuracy: 0.9275 - val_loss: 0.5715 - val_accuracy: 0.8737 - lr: 1.0000e-05\n"
          ]
        },
        {
          "output_type": "stream",
          "name": "stderr",
          "text": [
            "WARNING:absl:`lr` is deprecated, please use `learning_rate` instead, or use the legacy optimizer, e.g.,tf.keras.optimizers.legacy.Adam.\n"
          ]
        },
        {
          "output_type": "stream",
          "name": "stdout",
          "text": [
            "Learning rate:  1e-05\n",
            "Learning rate:  1e-05\n",
            "Epoch 1/2\n",
            "626/626 [==============================] - 205s 261ms/step - loss: 0.3838 - accuracy: 0.9308 - val_loss: 0.5819 - val_accuracy: 0.8685 - lr: 1.0000e-05\n",
            "Learning rate:  1e-05\n",
            "Epoch 2/2\n",
            "626/626 [==============================] - 165s 263ms/step - loss: 0.3817 - accuracy: 0.9315 - val_loss: 0.5800 - val_accuracy: 0.8693 - lr: 1.0000e-05\n"
          ]
        }
      ]
    },
    {
      "cell_type": "markdown",
      "source": [
        "## Testing\n",
        "Testing is done using the kaggle provided test set, so cannot get the actual accuracies for the model. Could have used train, validation and test splits for this but the purpose of this notebook is to implement the resnet and not the classification model itself"
      ],
      "metadata": {
        "id": "WyjJlBXXZMFv"
      }
    },
    {
      "cell_type": "code",
      "source": [
        "test_images = glob.glob('test/*')\n",
        "test_images"
      ],
      "metadata": {
        "colab": {
          "base_uri": "https://localhost:8080/"
        },
        "id": "-MUO_ZLlZOOc",
        "outputId": "502495b7-de44-4d87-dd9a-b7507bdb3672"
      },
      "execution_count": null,
      "outputs": [
        {
          "output_type": "execute_result",
          "data": {
            "text/plain": [
              "[]"
            ]
          },
          "metadata": {},
          "execution_count": 40
        }
      ]
    },
    {
      "cell_type": "code",
      "source": [
        "data_dir= 'test'\n",
        "test_ds = tf.keras.utils.image_dataset_from_directory(\n",
        "  data_dir,\n",
        "  labels=None,\n",
        "  shuffle=True,\n",
        "  image_size=(img_height, img_width),\n",
        "  batch_size=batch_size)"
      ],
      "metadata": {
        "id": "rna5t0t5a5KW"
      },
      "execution_count": null,
      "outputs": []
    },
    {
      "cell_type": "code",
      "source": [
        "# Load model from drive\n",
        "input_shape = (32,32,3)\n",
        "model = resnet(input_shape,56,0.5)\n",
        "model.load_weights('/content/drive/MyDrive/kaggle/cifar/model/cifar3.h5')"
      ],
      "metadata": {
        "id": "eXFftJwSgztC"
      },
      "execution_count": null,
      "outputs": []
    },
    {
      "cell_type": "code",
      "source": [
        "import matplotlib.pyplot as plt\n",
        "\n",
        "plt.figure(figsize=(10, 10))\n",
        "for images in test_ds.take(1):\n",
        "  for i in range(9):\n",
        "    ax = plt.subplot(3, 3, i + 1)\n",
        "    plt.imshow(images[i].numpy().astype(\"uint8\"))\n",
        "    plt.axis(\"off\")"
      ],
      "metadata": {
        "id": "VwHc_ahybYbw"
      },
      "execution_count": null,
      "outputs": []
    },
    {
      "cell_type": "code",
      "source": [
        "plt.figure(figsize=(10, 10))\n",
        "for i in range(9):\n",
        "    ax = plt.subplot(3, 3, i + 1)\n",
        "    plt.imshow(test_images[i].numpy().astype(\"uint8\"))\n",
        "    plt.axis(\"off\")"
      ],
      "metadata": {
        "id": "p2vKrqh9ZopV"
      },
      "execution_count": null,
      "outputs": []
    }
  ]
}